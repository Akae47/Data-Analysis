{
  "nbformat": 4,
  "nbformat_minor": 0,
  "metadata": {
    "colab": {
      "provenance": []
    },
    "kernelspec": {
      "name": "python3",
      "display_name": "Python 3"
    },
    "language_info": {
      "name": "python"
    }
  },
  "cells": [
    {
      "cell_type": "markdown",
      "source": [
        "## **Anomaly Detection and Association Analysis**\n",
        "\n",
        "\n",
        "You will implement some of the Anomaly Detection algorithms we have covered in lecture from scratch and then you will dive into demonstarting your understanding of Association Analysis.\n",
        "\n",
        "\n",
        "\n",
        "\n"
      ],
      "metadata": {
        "id": "zA-w6s3VQH38"
      }
    },
    {
      "cell_type": "markdown",
      "source": [
        "## **Part 1: Anomaly Detection**\n",
        "\n",
        "### **Q1 Proximity-Based Anomaly Detection**\n",
        "\n",
        "You will implement a method that calculates the Euclidean distance between each point in a dataset to all other points, identifies the minimum distance (i.e., the distance to the nearest neighbor), and then flags any points as anomalies if their nearest neighbor distance is more than a specified number of standard deviations away from the mean of these distances."
      ],
      "metadata": {
        "id": "hOe0NUYPQaB4"
      }
    },
    {
      "cell_type": "code",
      "source": [
        "from math import sqrt\n",
        "\n",
        "def euclidean_distance(point1, point2):\n",
        "    \"\"\"Calculate the Euclidean distance between two points.\"\"\"\n",
        "    return sqrt(sum((x - y) ** 2 for x, y in zip(point1, point2)))"
      ],
      "metadata": {
        "id": "4ll5DalPRe8G"
      },
      "execution_count": null,
      "outputs": []
    },
    {
      "cell_type": "code",
      "source": [
        "import numpy as np\n",
        "def proximity_based_anomaly_detection(data, threshold=2):\n",
        "\n",
        "    \"\"\"\n",
        "    Detects anomalies in a dataset based on the proximity to the nearest neighbor.\n",
        "\n",
        "    Parameters:\n",
        "    - data (list of list of floats): The dataset to analyze, where each sub-list represents a data point in multi-dimensional space.\n",
        "    - threshold (float): The number of standard deviations away from the mean distance to flag an anomaly.\n",
        "\n",
        "    Returns:\n",
        "    - list of bool: A list where each element corresponds to a data point. True for anomalies, False for normal points.\n",
        "    \"\"\"\n",
        "\n",
        "    # Calculate the distance from each point to its nearest neighbor and add them\n",
        "    # to the nearest neighbor distances list\n",
        "    nearest_neighbor_distances = []\n",
        "    for i, point in enumerate(data):\n",
        "        distances = [np.linalg.norm(np.array(point) - np.array(other_point)) for j, other_point in enumerate(data) if i != j]\n",
        "        nearest_neighbor_distances.append(min(distances))\n",
        "\n",
        "    # Calculate the mean and standard deviation of the nearest neighbor distances\n",
        "    mean_distance = np.mean(nearest_neighbor_distances)\n",
        "    std_distance = np.std(nearest_neighbor_distances)\n",
        "\n",
        "    # Flag points as anomalies if their distance to the nearest neighbor is greater than the threshold\n",
        "    anomalies = [distance > mean_distance + threshold * std_distance for distance in nearest_neighbor_distances]\n",
        "    return anomalies\n",
        "\n",
        "# Example usage with a simple 2D dataset:\n",
        "example_data = [\n",
        "    [1, 1],\n",
        "    [2, 2],\n",
        "    [1, 2],\n",
        "    [2, 1],\n",
        "    [100, 100]  # This point is an anomaly\n",
        "]\n",
        "\n",
        "# Detect anomalies\n",
        "anomalies_detected = proximity_based_anomaly_detection(example_data, threshold=1)\n",
        "print(anomalies_detected)\n"
      ],
      "metadata": {
        "id": "jKc5b2AQQaJb",
        "colab": {
          "base_uri": "https://localhost:8080/"
        },
        "outputId": "3decc7b2-3a9b-4e90-a5be-f91410bcbe01"
      },
      "execution_count": null,
      "outputs": [
        {
          "output_type": "stream",
          "name": "stdout",
          "text": [
            "[False, False, False, False, True]\n"
          ]
        }
      ]
    },
    {
      "cell_type": "code",
      "source": [
        "anomalies_detected"
      ],
      "metadata": {
        "id": "E-8ZMzMRRnaL",
        "colab": {
          "base_uri": "https://localhost:8080/"
        },
        "outputId": "cec72570-5ffd-4fc6-8d45-83f11c921915"
      },
      "execution_count": null,
      "outputs": [
        {
          "output_type": "execute_result",
          "data": {
            "text/plain": [
              "[False, False, False, False, True]"
            ]
          },
          "metadata": {},
          "execution_count": 5
        }
      ]
    },
    {
      "cell_type": "markdown",
      "source": [
        "### **Q2 Density-Based Anomaly Detection**\n",
        "\n",
        "Implement the density based anomaly detection algorithm. This function should calculate the local density of data points and compare it to the density of its neighbors. Points that lie in regions of low density compared to their neighbors are marked as anomalies.\n",
        "\n",
        "\n",
        "\n",
        "* Implement a function that calculates the local density for each data point and compares it to the average density of its neighbors. Points that lie in regions of significantly lower density compared to their neighbors are flagged as anomalies. The implementation uses Euclidean distance to measure proximity within a specified radius.\n",
        "        "
      ],
      "metadata": {
        "id": "uloYYh4WQaQ0"
      }
    },
    {
      "cell_type": "code",
      "source": [
        "from math import sqrt\n",
        "\n",
        "def local_density(center_point, data, radius):\n",
        "    \"\"\"Calculate the local density of a point given a radius.\"\"\"\n",
        "    return sum(1 for point in data if euclidean_distance(center_point, point) <= radius)\n",
        "\n",
        "def euclidean_distance(point1, point2):\n",
        "    return sqrt(sum((x - y) ** 2 for x, y in zip(point1, point2)))\n"
      ],
      "metadata": {
        "id": "eW3Wxqx2Yxqw"
      },
      "execution_count": null,
      "outputs": []
    },
    {
      "cell_type": "code",
      "source": [
        "def density_based_anomaly_detection(data, radius=1.0, threshold=2):\n",
        "    \"\"\"\n",
        "    Detects anomalies in a dataset based on the local density of data points and the density of their neighbors.\n",
        "\n",
        "    Parameters:\n",
        "    - data (list of list of floats): The dataset to analyze, where each sub-list represents a data point in multi-dimensional space.\n",
        "    - radius (float): The radius within which to search for neighboring points.\n",
        "    - threshold (float): The number of standard deviations away from the mean ratio of local density to neighbors' density to flag an anomaly.\n",
        "\n",
        "    Returns:\n",
        "    - list of bool: A list where each element corresponds to a data point. True for anomalies, False for normal points.\n",
        "    \"\"\"\n",
        "\n",
        "    # Calculate the local density for each data point\n",
        "    densities = [local_density(point, data, radius) for point in data]\n",
        "\n",
        "    # Calculate the ratio of a point's density to the average of its neighbors' densities\n",
        "    density_ratios = []\n",
        "    for i, point in enumerate(data):\n",
        "        neighbors_density = densities[i] - 1  # exclude the point itself from neighbors\n",
        "        if neighbors_density > 0:\n",
        "            average_neighbors_density = sum(density for j, density in enumerate(densities) if j != i) / neighbors_density\n",
        "            density_ratios.append(densities[i] / average_neighbors_density)\n",
        "        else:\n",
        "            # If a point has no neighbors, we consider its density ratio as 0\n",
        "            density_ratios.append(0)\n",
        "\n",
        "    # Calculate the mean and standard deviation of these ratios\n",
        "    mean_ratio = sum(density_ratios) / len(density_ratios)\n",
        "    std_ratio = sqrt(sum((ratio - mean_ratio) ** 2 for ratio in density_ratios) / len(density_ratios))\n",
        "\n",
        "    # Flag points as anomalies if their density ratio is significantly lower than the mean\n",
        "    anomalies = [ratio < mean_ratio - threshold * std_ratio for ratio in density_ratios]\n",
        "\n",
        "    return anomalies\n",
        "\n",
        "# Adjusted example data and parameters for sensitivity\n",
        "example_data = [\n",
        "    [1, 1],\n",
        "    [1, 2],\n",
        "    [2, 1],\n",
        "    [2, 2],\n",
        "    [1.5, 1.5],\n",
        "    [10, 10]  # This point is in a low-density region compared to others\n",
        "]\n",
        "radius = 1.5\n",
        "threshold = 1\n",
        "\n",
        "# Run the detection with the adjusted example data\n",
        "anomalies_detected = density_based_anomaly_detection(example_data, radius, threshold)\n",
        "print(anomalies_detected)"
      ],
      "metadata": {
        "id": "mNBGRHuNQaYY",
        "colab": {
          "base_uri": "https://localhost:8080/"
        },
        "outputId": "84076883-5884-4b63-94e6-05ee9c41e6d4"
      },
      "execution_count": null,
      "outputs": [
        {
          "output_type": "stream",
          "name": "stdout",
          "text": [
            "[False, False, False, False, False, True]\n"
          ]
        }
      ]
    },
    {
      "cell_type": "code",
      "source": [
        "anomalies_detected"
      ],
      "metadata": {
        "id": "LjekiotmY4rL",
        "colab": {
          "base_uri": "https://localhost:8080/"
        },
        "outputId": "e2e01d50-a5db-4b01-9333-6d89b10446fc"
      },
      "execution_count": null,
      "outputs": [
        {
          "output_type": "execute_result",
          "data": {
            "text/plain": [
              "[False, False, False, False, False, True]"
            ]
          },
          "metadata": {},
          "execution_count": 16
        }
      ]
    },
    {
      "cell_type": "markdown",
      "source": [
        "## **Q3 Isolation Forest Algorithm**\n",
        "\n",
        "\n",
        "Implementing an Isolation Forest from scratch involves creating an ensemble of Isolation Trees, where each tree is constructed by recursively splitting the data based on randomly selected features and split values. The idea is that anomalies are susceptible to isolation and will have shorter path lengths on average in the tree.\n",
        "\n",
        "* The code below defines two classes: `IsolationTree` and `IsolationForest`. The `IsolationTre`e class builds a single tree for isolating points, while the `IsolationForest` class creates an ensemble of such trees. The `anomaly_score` method computes an anomaly score for each data point, and the `predict` method uses these scores to classify points as normal or anomalies based on a specified threshold.\n",
        "\n",
        "* Please note that this implementation is highly simplified and may not be as optimized or robust as the implementation available in libraries like `scikit-learn`. It also lacks many features and optimizations present in the full algorithm, but it should provide a conceptual starting point for understanding how Isolation Forests work and looking into behind the scene implementation that is abtracted away when using `scikit-learn` implementation of the algorithm.\n",
        "\n",
        "* Read the implementation of these classes and their methods and confirm an understanding of their implementation. In the following cell, you will be asked to initialize the class and fit and predict anomalies."
      ],
      "metadata": {
        "id": "UCjyUMGCQafQ"
      }
    },
    {
      "cell_type": "code",
      "source": [
        "import numpy as np\n",
        "\n",
        "class IsolationTree:\n",
        "    \"\"\"\n",
        "    Represents a single tree in an Isolation Forest, responsible for isolating points in the dataset.\n",
        "\n",
        "    An Isolation Tree recursively splits the data based on randomly selected features and split values,\n",
        "    with the goal of isolating each point. The number of splits required to isolate a point can be\n",
        "    used as a measure of its 'normality' or 'anomalousness'.\n",
        "\n",
        "    Attributes:\n",
        "    max_depth (int): The maximum depth to which the tree should grow.\n",
        "    split_feature (int, optional): The index of the feature used for the current split.\n",
        "    split_value (float, optional): The value of the feature used to make the current split.\n",
        "    left (IsolationTree, optional): The left subtree, which contains points less than the split value.\n",
        "    right (IsolationTree, optional): The right subtree, which contains points greater than or equal to the split value.\n",
        "    depth (int, optional): The depth of the tree when it can no longer grow, either because it has reached `max_depth`\n",
        "                           or there is no more data to split.\n",
        "\n",
        "    Methods:\n",
        "    fit(X, depth=0): Recursively fits the tree to the dataset X starting from the given depth.\n",
        "        Parameters:\n",
        "        X (array-like): The dataset to fit the tree on.\n",
        "        depth (int): The current depth of the tree. Default is 0.\n",
        "        Returns:\n",
        "        self: The fitted Isolation Tree.\n",
        "\n",
        "    path_length(x, depth=0): Calculates the path length for a given point x in the dataset.\n",
        "        Parameters:\n",
        "        x (array-like): The data point for which to calculate the path length.\n",
        "        depth (int): The current depth within the tree. Default is 0.\n",
        "        Returns:\n",
        "        depth (int): The path length for the point x.\n",
        "        \"\"\"\n",
        "    def __init__(self, max_depth):\n",
        "        self.max_depth = max_depth\n",
        "        self.split_feature = None\n",
        "        self.split_value = None\n",
        "        self.left = None\n",
        "        self.right = None\n",
        "        self.depth = None\n",
        "\n",
        "    def fit(self, X, depth=0):\n",
        "        if depth == self.max_depth or len(X) <= 1:\n",
        "            self.depth = depth\n",
        "            return self\n",
        "\n",
        "        # Randomly select a feature and a split value\n",
        "        self.split_feature = np.random.randint(X.shape[1])\n",
        "        self.split_value = np.random.uniform(X[:, self.split_feature].min(), X[:, self.split_feature].max())\n",
        "\n",
        "        # Split the dataset\n",
        "        left_indices = X[:, self.split_feature] < self.split_value\n",
        "        right_indices = ~left_indices\n",
        "\n",
        "        # Recursively fit left and right branches\n",
        "        self.left = IsolationTree(self.max_depth).fit(X[left_indices], depth + 1)\n",
        "        self.right = IsolationTree(self.max_depth).fit(X[right_indices], depth + 1)\n",
        "\n",
        "        return self\n",
        "\n",
        "    def path_length(self, x, depth=0):\n",
        "        if self.depth is not None:\n",
        "            return depth\n",
        "\n",
        "        if x[self.split_feature] < self.split_value:\n",
        "            return self.left.path_length(x, depth + 1)\n",
        "        else:\n",
        "            return self.right.path_length(x, depth + 1)\n",
        "\n",
        "class IsolationForest:\n",
        "    \"\"\"\n",
        "    An implementation of the Isolation Forest algorithm for anomaly detection.\n",
        "\n",
        "    This class creates an ensemble of Isolation Trees which isolate observations in order to identify anomalies.\n",
        "    Anomalies are identified as being the points that have a short average path length in the Isolation Trees,\n",
        "    as they are easier to isolate compared to normal points.\n",
        "\n",
        "    Attributes:\n",
        "    n_estimators (int): The number of base Isolation Trees to construct in the ensemble.\n",
        "    max_samples (int): The number of samples to draw from the dataset to train each Isolation Tree.\n",
        "    max_depth (int, optional): The maximum depth to which each Isolation Tree should grow. If None, it will be\n",
        "                               set to the ceiling of the logarithm of the number of samples.\n",
        "    trees (list): A list to store the fitted Isolation Trees.\n",
        "\n",
        "    Methods:\n",
        "    fit(X): Fits the Isolation Forest model to the dataset X.\n",
        "        Parameters:\n",
        "        X (array-like): The feature dataset to fit the model on.\n",
        "        Returns:\n",
        "        self: The fitted model.\n",
        "\n",
        "    anomaly_score(X): Calculates the anomaly score for each sample in dataset X.\n",
        "        Parameters:\n",
        "        X (array-like): The dataset for which to calculate anomaly scores.\n",
        "        Returns:\n",
        "        scores (array): Anomaly scores for each sample in X.\n",
        "\n",
        "    predict(X, threshold=0.5): Predicts if the samples in dataset X are anomalies or not.\n",
        "        Parameters:\n",
        "        X (array-like): The dataset to make predictions on.\n",
        "        threshold (float): The threshold to use for converting anomaly scores into binary labels.\n",
        "        Returns:\n",
        "        predictions (array): The predicted labels (-1 for anomalies, 1 for normal points).\n",
        "    \"\"\"\n",
        "    def __init__(self, n_estimators=100, max_samples=256, max_depth=None):\n",
        "        self.n_estimators = n_estimators\n",
        "        self.max_samples = max_samples\n",
        "        self.max_depth = max_depth\n",
        "        self.trees = []\n",
        "\n",
        "    def fit(self, X):\n",
        "        if self.max_depth is None:\n",
        "            self.max_depth = int(np.log2(self.max_samples))\n",
        "\n",
        "        for _ in range(self.n_estimators):\n",
        "            # Subsample the data\n",
        "            if len(X) > self.max_samples:\n",
        "                subsample_indices = np.random.choice(len(X), self.max_samples, replace=False)\n",
        "                subsample = X[subsample_indices]\n",
        "            else:\n",
        "                subsample = X\n",
        "\n",
        "            # Create and fit an isolation tree\n",
        "            tree = IsolationTree(self.max_depth).fit(subsample)\n",
        "            self.trees.append(tree)\n",
        "\n",
        "        return self\n",
        "\n",
        "    def anomaly_score(self, X):\n",
        "        path_lengths = np.zeros(len(X))\n",
        "\n",
        "        # For each tree, the path length from the root to the terminating node (isolation point) is calculated for each data point x in X.\n",
        "        # These path lengths are then summed up across all trees for each data point. This sum represents how quickly, on average, a data point can be isolated by the forest.\n",
        "        for tree in self.trees:\n",
        "            path_lengths += np.array([tree.path_length(x) for x in X])\n",
        "\n",
        "        # Average path length over all trees\n",
        "        path_lengths /= self.n_estimators\n",
        "\n",
        "        # Calculate the anomaly score\n",
        "        scores = 2 ** (-path_lengths / np.mean(path_lengths))\n",
        "\n",
        "        return scores\n",
        "\n",
        "    def predict(self, X, threshold=0.5):\n",
        "        scores = self.anomaly_score(X)\n",
        "        predictions = np.where(scores < threshold, -1, 1)\n",
        "        return predictions"
      ],
      "metadata": {
        "id": "PM3pcK5TQalx"
      },
      "execution_count": null,
      "outputs": []
    },
    {
      "cell_type": "markdown",
      "source": [
        "### **TODO:** Using the `IsolationForest` class implemented above, and given the example data below, calculate the anomaly_scores of the examples and predict anomalies."
      ],
      "metadata": {
        "id": "S5p5gl5oxs1k"
      }
    },
    {
      "cell_type": "code",
      "source": [
        "# Example data\n",
        "example_data = [\n",
        "    [0.1, 0.2],\n",
        "    [0.3, 0.4],\n",
        "    [0.5, 0.6],\n",
        "    [0.7, 0.8],\n",
        "    [0.9, 1.0],\n",
        "    [1.0, 1.0]\n",
        "]\n",
        "\n",
        "# Convert the example data to a numpy array for processing\n",
        "X_example = np.array(example_data)\n",
        "\n",
        "# Create an instance of the IsolationForest with 10 n_estimators and 100 max_samples\n",
        "isolation_forest = IsolationForest(n_estimators=10, max_samples=100)\n",
        "\n",
        "# Fit the isolation forest\n",
        "isolation_forest.fit(X_example)\n",
        "\n",
        "# Calculate the anomaly scores\n",
        "anomaly_scores = isolation_forest.anomaly_score(X_example)\n",
        "\n",
        "# Predict anomalies based on a threshold\n",
        "# In this example, let's consider a threshold of 0.5\n",
        "predictions = isolation_forest.predict(X_example, threshold=0.5)\n",
        "\n",
        "# Print out the predictions obtained\n",
        "print(\"Anomaly Scores:\", anomaly_scores)\n",
        "print(\"Predictions:\", predictions)"
      ],
      "metadata": {
        "id": "N6MwYoxzQayy",
        "colab": {
          "base_uri": "https://localhost:8080/"
        },
        "outputId": "13ace2fd-b7bf-44a1-fc16-300e9a4bb1e6"
      },
      "execution_count": null,
      "outputs": [
        {
          "output_type": "stream",
          "name": "stdout",
          "text": [
            "Anomaly Scores: [0.58950218 0.52552205 0.51358467 0.51358467 0.43728017 0.43728017]\n",
            "Predictions: [ 1  1  1  1 -1 -1]\n"
          ]
        }
      ]
    },
    {
      "cell_type": "markdown",
      "source": [
        "\n",
        "# **Part 2: Association Analysis - Frequent Itemsets and Rule Generation**\n",
        "\n",
        "\n",
        "In this 2nd part of the homework, we will implement association analysis. Association analysis uses machine learning algorithms to extract hidden relationships from large datasets. In this assignment we'll be using one of the most commonly used algorithms for association rule mining - the Apriori algorithm.\n",
        "\n",
        "`scikit-learn` does not provide any functionality for association rule mining so for this assignment you will be using the `MLxtend` library. The documentation for this library is available [here](http://rasbt.github.io/mlxtend/).\n",
        "\n",
        "You will need to install the `MLxtend` library. There are several ways of doing this; see the setup guide  [here](http://rasbt.github.io/mlxtend/installation/).\n",
        "\n",
        "## **Bread Basket Data**\n",
        "\n",
        "The dataset belongs to \"The Bread Basket\" a bakery located in Edinburgh. The dataset has 21293 entires, over 6000 transactions and 4 columns:\n",
        "\n",
        "  - Date: Categorical variable that tells us the date of the transactions (YYYY-MM-DD format).\n",
        "  - Time: Categorical variable that tells us the time of the transactions (HH:MM:SS format).\n",
        "  - Transaction: Quantitative variable that allows us to differentiate the transactions. The rows that share the same value in this field belong to the same transaction, that's why the data set has less transactions than observations.\n",
        "  - Item: Categorical variable with the products.\n",
        "\n",
        "You'll need to clean up the input data and convert it to a transaction list with itemsets, and find itemsets that occur more than the `min_sup` threshold. Based on these frequent itemsets you'll find association rules that have confidence above the `min_conf` threshold.\n",
        "\n"
      ],
      "metadata": {
        "id": "olnnTXUHQbFw"
      }
    },
    {
      "cell_type": "code",
      "source": [
        "# Do not modify import block, all necessary imports are included\n",
        "\n",
        "# Our regular libraries\n",
        "import pandas as pd\n",
        "import numpy as np\n",
        "import matplotlib.pyplot as plt\n",
        "%matplotlib inline\n",
        "\n",
        "# This is for our association analysis\n",
        "from mlxtend.preprocessing import TransactionEncoder\n",
        "from mlxtend.frequent_patterns import apriori\n",
        "from mlxtend.frequent_patterns import association_rules"
      ],
      "metadata": {
        "id": "Ewe1N5VIQbNU"
      },
      "execution_count": null,
      "outputs": []
    },
    {
      "cell_type": "markdown",
      "source": [
        "## **Q4 - Data Analysis**\n",
        "The data has been delivered to us in a format that doesn't match the transaction format that we used in the lecture to create frequent itemsets, but instead in a one item per line format that contains a transaction ID.  Let's visualize what kind of data we have.\n",
        "\n",
        "Load the `BreadBasket.csv` file into a dataframe and:\n",
        "\n",
        "  1. Plot the most frequent 20 items in a a histogram.  You may use panda's `value_counts` with the [matplotlib](https://matplotlib.org/3.1.1/gallery/lines_bars_and_markers/categorical_variables.html) documentation on how to create a histogram with categorical data. Make sure your axis is readable and labeled.  I used a figsize of (15,5).\n",
        "  2. Calculate how many unique items are in the dataset\n",
        "  3. Calculate how many transactions there are in the dataset\n",
        "  \n",
        "As you may notice there is an item with the name `NONE` ... remove all of those before you answer the above questions."
      ],
      "metadata": {
        "id": "U498X9wgxdBi"
      }
    },
    {
      "cell_type": "code",
      "execution_count": null,
      "metadata": {
        "id": "OJfXFE72QAen",
        "colab": {
          "base_uri": "https://localhost:8080/",
          "height": 601
        },
        "outputId": "334b01bb-550b-41d9-c958-8335efeb4ed8"
      },
      "outputs": [
        {
          "output_type": "stream",
          "name": "stderr",
          "text": [
            "/usr/local/lib/python3.10/dist-packages/ipykernel/ipkernel.py:283: DeprecationWarning: `should_run_async` will not call `transform_cell` automatically in the future. Please pass the result to `transformed_cell` argument and any exception that happen during thetransform in `preprocessing_exc_tuple` in IPython 7.17 and above.\n",
            "  and should_run_async(code)\n"
          ]
        },
        {
          "output_type": "display_data",
          "data": {
            "text/plain": [
              "<Figure size 1500x500 with 1 Axes>"
            ],
            "image/png": "[encoded data removed]"
          },
          "metadata": {}
        },
        {
          "output_type": "stream",
          "name": "stdout",
          "text": [
            "Number of unique items: 94\n",
            "Number of transactions: 9465\n"
          ]
        }
      ],
      "source": [
        "import pandas as pd\n",
        "import matplotlib.pyplot as plt\n",
        "\n",
        "# Load the data into a DataFrame\n",
        "df = pd.read_csv('BreadBasket.csv')\n",
        "\n",
        "# Remove rows with 'NONE' in the Item column\n",
        "df = df[df['Item'] != 'NONE']\n",
        "\n",
        "\n",
        "\n"
      ]
    },
    {
      "cell_type": "code",
      "source": [
        "# 1. Plot the most frequent 20 items in a histogram\n",
        "plt.figure(figsize=(15, 5))\n",
        "top_items = df['Item'].value_counts().head(20)\n",
        "top_items.plot(kind='bar', color='skyblue')\n",
        "plt.title('Top 20 Most Frequent Items')\n",
        "plt.xlabel('Items')\n",
        "plt.ylabel('Frequency')\n",
        "plt.xticks(rotation=45, ha='right')\n",
        "plt.show()"
      ],
      "metadata": {
        "id": "b0z0YB11yQEo",
        "colab": {
          "base_uri": "https://localhost:8080/",
          "height": 567
        },
        "outputId": "1d000c5c-97e1-463b-972f-db9ff343ef14"
      },
      "execution_count": null,
      "outputs": [
        {
          "output_type": "stream",
          "name": "stderr",
          "text": [
            "/usr/local/lib/python3.10/dist-packages/ipykernel/ipkernel.py:283: DeprecationWarning: `should_run_async` will not call `transform_cell` automatically in the future. Please pass the result to `transformed_cell` argument and any exception that happen during thetransform in `preprocessing_exc_tuple` in IPython 7.17 and above.\n",
            "  and should_run_async(code)\n"
          ]
        },
        {
          "output_type": "display_data",
          "data": {
            "text/plain": [
              "<Figure size 1500x500 with 1 Axes>"
            ],
            "image/png": "[encoded data removed]"
          },
          "metadata": {}
        }
      ]
    },
    {
      "cell_type": "code",
      "source": [
        "# 2. Calculate how many unique items are in the dataset\n",
        "unique_items = df['Item'].nunique()\n",
        "print(f\"Number of unique items: {unique_items}\")"
      ],
      "metadata": {
        "id": "Ivi0xnqfyQHy",
        "colab": {
          "base_uri": "https://localhost:8080/"
        },
        "outputId": "acfe8978-0270-4eba-b6da-6fb5b91a5243"
      },
      "execution_count": null,
      "outputs": [
        {
          "output_type": "stream",
          "name": "stdout",
          "text": [
            "Number of unique items: 94\n"
          ]
        },
        {
          "output_type": "stream",
          "name": "stderr",
          "text": [
            "/usr/local/lib/python3.10/dist-packages/ipykernel/ipkernel.py:283: DeprecationWarning: `should_run_async` will not call `transform_cell` automatically in the future. Please pass the result to `transformed_cell` argument and any exception that happen during thetransform in `preprocessing_exc_tuple` in IPython 7.17 and above.\n",
            "  and should_run_async(code)\n"
          ]
        }
      ]
    },
    {
      "cell_type": "code",
      "source": [
        "\n",
        "# 3. Calculate how many transactions there are in the dataset\n",
        "num_transactions = df['Transaction'].nunique()\n",
        "print(f\"Number of transactions: {num_transactions}\")"
      ],
      "metadata": {
        "id": "_0MzC7ROyQTv",
        "colab": {
          "base_uri": "https://localhost:8080/"
        },
        "outputId": "5c01f3fd-1ed2-4243-b50d-89f3f944b728"
      },
      "execution_count": null,
      "outputs": [
        {
          "output_type": "stream",
          "name": "stdout",
          "text": [
            "Number of transactions: 9465\n"
          ]
        },
        {
          "output_type": "stream",
          "name": "stderr",
          "text": [
            "/usr/local/lib/python3.10/dist-packages/ipykernel/ipkernel.py:283: DeprecationWarning: `should_run_async` will not call `transform_cell` automatically in the future. Please pass the result to `transformed_cell` argument and any exception that happen during thetransform in `preprocessing_exc_tuple` in IPython 7.17 and above.\n",
            "  and should_run_async(code)\n"
          ]
        }
      ]
    },
    {
      "cell_type": "markdown",
      "source": [
        "## **Q5 - Data Prep: Convert to One Hot Encoded Transactions**\n",
        "Convert the data to a transaction array.  The transaction array is a list of lists, for example:\n",
        "\n",
        "```\n",
        "dataset = [['Milk', 'Onion', 'Nutmeg', 'Kidney Beans', 'Eggs', 'Yogurt'],\n",
        "           ['Dill', 'Onion', 'Nutmeg', 'Kidney Beans', 'Eggs', 'Yogurt'],\n",
        "           ['Milk', 'Apple', 'Kidney Beans', 'Eggs'],\n",
        "           ['Milk', 'Unicorn', 'Corn', 'Kidney Beans', 'Yogurt'],\n",
        "           ['Corn', 'Onion', 'Onion', 'Kidney Beans', 'Ice cream', 'Eggs']]\n",
        "```\n",
        "\n",
        "Pandas has a special function called `groupby` which we have learned before and we can use to collate all of the items with the same transaction ID into a list.  Here is a nice [tutorial](https://realpython.com/pandas-groupby/). You can get the list of lists of transactions by grouping the data by \"Transaction\" column, referencing the \"Item\" column, then applying a list.  This gives you a series with the transaction ID equal to the index, but the [TransactionEncoder](http://rasbt.github.io/mlxtend/user_guide/preprocessing/TransactionEncoder/) to prep the data for our library just wants the values of that series.\n",
        "\n",
        "There are other methods you may use to create the transaction array using the `BreadBasked.csv` data with the `NONE` values filtered out, but they might require a little more code than the methodology suggested above.\n",
        "\n",
        "Use the `mlxtend` TransactionEncoder library to encode the transaction array in a one hot encoding. Create the one hot encoding using the TransactionEncoder, and check it was done properly by looking at the first 4 transactions using the `inverse_transform`. Finish off the data prep for the frequent itemset generation by converting the transactions back to a dataframe using the [documentation](http://rasbt.github.io/mlxtend/user_guide/frequent_patterns/apriori/) as a reference."
      ],
      "metadata": {
        "id": "EmGdbCbPyOgX"
      }
    },
    {
      "cell_type": "code",
      "source": [
        "import pandas as pd\n",
        "from mlxtend.preprocessing import TransactionEncoder\n",
        "\n",
        "# Load the data into a DataFrame\n",
        "df = pd.read_csv('BreadBasket.csv')\n",
        "\n",
        "# Remove rows with 'NONE' in the 'Item' column\n",
        "df = df[df['Item'] != 'NONE']\n",
        "\n",
        "# Group by 'Transaction' and aggregate 'Item' into a list for each transaction\n",
        "transactions = df.groupby('Transaction')['Item'].apply(list).values.tolist()\n",
        "\n",
        "# Use TransactionEncoder to one-hot encode the transactions\n",
        "te = TransactionEncoder()\n",
        "one_hot_encoded = te.fit_transform(transactions)\n",
        "\n",
        "# Convert the one-hot encoded array to a DataFrame\n",
        "df_encoded = pd.DataFrame(one_hot_encoded, columns=te.columns_)\n",
        "\n",
        "# Display the first 4 transactions using inverse_transform to check\n",
        "inverse_transformed = te.inverse_transform(one_hot_encoded[:4])\n",
        "print(\"First 4 transactions after inverse_transform:\")\n",
        "for transaction in inverse_transformed:\n",
        "    print(transaction)\n",
        "\n",
        "# Print the DataFrame with one-hot encoding\n",
        "print(\"\\nDataFrame with one-hot encoding:\")\n",
        "print(df_encoded.head())\n"
      ],
      "metadata": {
        "id": "fTGVSQddyUhG",
        "colab": {
          "base_uri": "https://localhost:8080/"
        },
        "outputId": "07f6fa80-70f0-405c-ab06-97b6fba39e38"
      },
      "execution_count": null,
      "outputs": [
        {
          "output_type": "stream",
          "name": "stderr",
          "text": [
            "/usr/local/lib/python3.10/dist-packages/ipykernel/ipkernel.py:283: DeprecationWarning: `should_run_async` will not call `transform_cell` automatically in the future. Please pass the result to `transformed_cell` argument and any exception that happen during thetransform in `preprocessing_exc_tuple` in IPython 7.17 and above.\n",
            "  and should_run_async(code)\n"
          ]
        },
        {
          "output_type": "stream",
          "name": "stdout",
          "text": [
            "First 4 transactions after inverse_transform:\n",
            "['Bread']\n",
            "['Scandinavian']\n",
            "['Cookies', 'Hot chocolate', 'Jam']\n",
            "['Muffin']\n",
            "\n",
            "DataFrame with one-hot encoding:\n",
            "   Adjustment  Afternoon with the baker  Alfajores  Argentina Night  Art Tray  \\\n",
            "0       False                     False      False            False     False   \n",
            "1       False                     False      False            False     False   \n",
            "2       False                     False      False            False     False   \n",
            "3       False                     False      False            False     False   \n",
            "4       False                     False      False            False     False   \n",
            "\n",
            "   Bacon  Baguette  Bakewell  Bare Popcorn  Basket  ...  The BART  The Nomad  \\\n",
            "0  False     False     False         False   False  ...     False      False   \n",
            "1  False     False     False         False   False  ...     False      False   \n",
            "2  False     False     False         False   False  ...     False      False   \n",
            "3  False     False     False         False   False  ...     False      False   \n",
            "4  False     False     False         False   False  ...     False      False   \n",
            "\n",
            "   Tiffin  Toast  Truffles  Tshirt  Valentine's card  Vegan Feast  \\\n",
            "0   False  False     False   False             False        False   \n",
            "1   False  False     False   False             False        False   \n",
            "2   False  False     False   False             False        False   \n",
            "3   False  False     False   False             False        False   \n",
            "4   False  False     False   False             False        False   \n",
            "\n",
            "   Vegan mincepie  Victorian Sponge  \n",
            "0           False             False  \n",
            "1           False             False  \n",
            "2           False             False  \n",
            "3           False             False  \n",
            "4           False             False  \n",
            "\n",
            "[5 rows x 94 columns]\n"
          ]
        }
      ]
    },
    {
      "cell_type": "code",
      "source": [],
      "metadata": {
        "id": "HIHiYhPAyXQI"
      },
      "execution_count": null,
      "outputs": []
    },
    {
      "cell_type": "code",
      "source": [],
      "metadata": {
        "id": "RwW7yNyByXSp"
      },
      "execution_count": null,
      "outputs": []
    },
    {
      "cell_type": "code",
      "source": [],
      "metadata": {
        "id": "umTRLwqqyXUi"
      },
      "execution_count": null,
      "outputs": []
    },
    {
      "cell_type": "markdown",
      "source": [
        "## **Q6 - Create Frequent Itemsets**\n",
        "Using the [apriori](http://rasbt.github.io/mlxtend/user_guide/frequent_patterns/apriori/) method, create a frequent itemset that we can use to create rules with.  Unlike in the lecture notes, this implementation doesn't use an integer _minsup_ , it refers to support of the percent of the transactions that it has to contain to be frequent.  Since we have 9465 transactions, if we want _minsup_ to be 100, then the library expects a `min_support` fraction of $\\frac{100}{9465}$. Find all the frequent item sets with _minsup_ set to 20. Show the last 15 frequent item sets displaying the item names (not the item column indices)."
      ],
      "metadata": {
        "id": "7yB-uQLXyXbQ"
      }
    },
    {
      "cell_type": "code",
      "source": [
        "from mlxtend.frequent_patterns import apriori, association_rules\n",
        "\n",
        "# Set min_support based on the percentage of transactions\n",
        "min_support = 20 / 9465\n",
        "\n",
        "# Generate frequent itemsets using apriori\n",
        "frequent_itemsets = apriori(df_encoded, min_support=min_support, use_colnames=True)\n",
        "\n",
        "# Display the last 15 frequent itemsets with item names\n",
        "last_15_frequent_itemsets = frequent_itemsets.tail(15)\n",
        "last_15_frequent_itemsets['itemsets'] = last_15_frequent_itemsets['itemsets'].apply(lambda x: set(te.inverse_transform([x])[0]))\n",
        "\n",
        "print(\"Last 15 Frequent Itemsets:\")\n",
        "print(last_15_frequent_itemsets)\n"
      ],
      "metadata": {
        "id": "egmKyEhXygvH",
        "colab": {
          "base_uri": "https://localhost:8080/"
        },
        "outputId": "e3e4099e-ca6d-4dee-f6bb-80e2a6c7e57a"
      },
      "execution_count": null,
      "outputs": [
        {
          "output_type": "stream",
          "name": "stderr",
          "text": [
            "/usr/local/lib/python3.10/dist-packages/ipykernel/ipkernel.py:283: DeprecationWarning: `should_run_async` will not call `transform_cell` automatically in the future. Please pass the result to `transformed_cell` argument and any exception that happen during thetransform in `preprocessing_exc_tuple` in IPython 7.17 and above.\n",
            "  and should_run_async(code)\n"
          ]
        },
        {
          "output_type": "stream",
          "name": "stdout",
          "text": [
            "Last 15 Frequent Itemsets:\n",
            "      support                                           itemsets\n",
            "229  0.003909  {Afternoon with the baker, Adjustment, Alfajores}\n",
            "230  0.003064  {Afternoon with the baker, Adjustment, Alfajores}\n",
            "231  0.003803  {Afternoon with the baker, Adjustment, Alfajores}\n",
            "232  0.002536  {Afternoon with the baker, Adjustment, Alfajores}\n",
            "233  0.002747  {Afternoon with the baker, Adjustment, Alfajores}\n",
            "234  0.004860  {Afternoon with the baker, Adjustment, Alfajores}\n",
            "235  0.003698  {Afternoon with the baker, Adjustment, Alfajores}\n",
            "236  0.002853  {Afternoon with the baker, Adjustment, Alfajores}\n",
            "237  0.004649  {Afternoon with the baker, Adjustment, Alfajores}\n",
            "238  0.003592  {Afternoon with the baker, Adjustment, Alfajores}\n",
            "239  0.005388  {Afternoon with the baker, Adjustment, Alfajores}\n",
            "240  0.002113  {Afternoon with the baker, Adjustment, Alfajores}\n",
            "241  0.003381  {Afternoon with the baker, Adjustment, Alfajores}\n",
            "242  0.002747  {Afternoon with the baker, Adjustment, Alfajores}\n",
            "243  0.003275  {Afternoon with the baker, Adjustment, Alfajores}\n"
          ]
        },
        {
          "output_type": "stream",
          "name": "stderr",
          "text": [
            "<ipython-input-22-b94a413fe672>:11: SettingWithCopyWarning: \n",
            "A value is trying to be set on a copy of a slice from a DataFrame.\n",
            "Try using .loc[row_indexer,col_indexer] = value instead\n",
            "\n",
            "See the caveats in the documentation: https://pandas.pydata.org/pandas-docs/stable/user_guide/indexing.html#returning-a-view-versus-a-copy\n",
            "  last_15_frequent_itemsets['itemsets'] = last_15_frequent_itemsets['itemsets'].apply(lambda x: set(te.inverse_transform([x])[0]))\n"
          ]
        }
      ]
    },
    {
      "cell_type": "code",
      "source": [],
      "metadata": {
        "id": "CmKGE9uJygx9"
      },
      "execution_count": null,
      "outputs": []
    },
    {
      "cell_type": "code",
      "source": [],
      "metadata": {
        "id": "qzAGL43byg6B"
      },
      "execution_count": null,
      "outputs": []
    },
    {
      "cell_type": "markdown",
      "source": [
        "## **Q7 - Generate Strong Rules**\n",
        "Use the [association_rules](http://rasbt.github.io/mlxtend/user_guide/frequent_patterns/association_rules/) to calculate rules with a confidence level of 0.5 for the frequent itemsets you generated in Q3.\n",
        "\n",
        "You should notice something in common with all of the rules.  Are these rules helpful for our bakery?"
      ],
      "metadata": {
        "id": "PMgNOaz3yhJq"
      }
    },
    {
      "cell_type": "code",
      "source": [
        "# Generate association rules with a confidence level of 0.5\n",
        "rules = association_rules(frequent_itemsets, metric='confidence', min_threshold=0.5)\n",
        "\n",
        "# Display the generated rules\n",
        "print(\"Generated Association Rules:\")\n",
        "print(rules)\n"
      ],
      "metadata": {
        "id": "oJmpJ6A5yjmT",
        "colab": {
          "base_uri": "https://localhost:8080/"
        },
        "outputId": "49f87c76-79d7-4ec3-ed87-9d9024582d25"
      },
      "execution_count": null,
      "outputs": [
        {
          "output_type": "stream",
          "name": "stdout",
          "text": [
            "Generated Association Rules:\n",
            "                   antecedents consequents  antecedent support  \\\n",
            "0                  (Alfajores)    (Coffee)            0.036344   \n",
            "1                   (Art Tray)    (Coffee)            0.004015   \n",
            "2                   (Bakewell)    (Coffee)            0.005071   \n",
            "3                       (Cake)    (Coffee)            0.103856   \n",
            "4                    (Cookies)    (Coffee)            0.054411   \n",
            "5       (Extra Salami or Feta)    (Coffee)            0.004015   \n",
            "6                   (Frittata)    (Coffee)            0.008558   \n",
            "7          (Hearty & Seasonal)    (Coffee)            0.010565   \n",
            "8              (Hot chocolate)    (Coffee)            0.058320   \n",
            "9             (Jammie Dodgers)    (Coffee)            0.013207   \n",
            "10                     (Juice)    (Coffee)            0.038563   \n",
            "11          (Keeping It Local)    (Coffee)            0.006656   \n",
            "12                 (Medialuna)    (Coffee)            0.061807   \n",
            "13                    (Pastry)    (Coffee)            0.086107   \n",
            "14                     (Salad)    (Coffee)            0.010460   \n",
            "15                  (Sandwich)    (Coffee)            0.071844   \n",
            "16                     (Scone)    (Coffee)            0.034548   \n",
            "17            (Spanish Brunch)    (Coffee)            0.018172   \n",
            "18                   (Tartine)    (Coffee)            0.004860   \n",
            "19                 (The Nomad)    (Coffee)            0.006128   \n",
            "20                    (Tiffin)    (Coffee)            0.015425   \n",
            "21                     (Toast)    (Coffee)            0.033597   \n",
            "22            (Vegan mincepie)    (Coffee)            0.005494   \n",
            "23           (Cake, Alfajores)    (Coffee)            0.004120   \n",
            "24     (Spanish Brunch, Bread)    (Coffee)            0.004754   \n",
            "25    (Brownie, Hot chocolate)    (Coffee)            0.004120   \n",
            "26             (Cake, Cookies)    (Coffee)            0.007290   \n",
            "27       (Cake, Hot chocolate)    (Coffee)            0.011410   \n",
            "28               (Juice, Cake)    (Coffee)            0.007079   \n",
            "29           (Cake, Medialuna)    (Coffee)            0.003698   \n",
            "30              (Cake, Pastry)    (Coffee)            0.005177   \n",
            "31            (Cake, Sandwich)    (Coffee)            0.006867   \n",
            "32               (Cake, Scone)    (Coffee)            0.004754   \n",
            "33                (Cake, Soup)    (Coffee)            0.004437   \n",
            "34    (Cookies, Hot chocolate)    (Coffee)            0.006022   \n",
            "35            (Juice, Cookies)    (Coffee)            0.006128   \n",
            "36  (Medialuna, Hot chocolate)    (Coffee)            0.004754   \n",
            "37     (Pastry, Hot chocolate)    (Coffee)            0.005705   \n",
            "38   (Hot chocolate, Sandwich)    (Coffee)            0.004437   \n",
            "39         (Pastry, Medialuna)    (Coffee)            0.009192   \n",
            "40            (Soup, Sandwich)    (Coffee)            0.005494   \n",
            "41        (Truffles, Sandwich)    (Coffee)            0.003803   \n",
            "42                (Toast, Tea)    (Coffee)            0.006445   \n",
            "\n",
            "    consequent support   support  confidence      lift  leverage  conviction  \\\n",
            "0             0.478394  0.019651    0.540698  1.130235  0.002264    1.135648   \n",
            "1             0.478394  0.002747    0.684211  1.430224  0.000826    1.651752   \n",
            "2             0.478394  0.003064    0.604167  1.262906  0.000638    1.317741   \n",
            "3             0.478394  0.054728    0.526958  1.101515  0.005044    1.102664   \n",
            "4             0.478394  0.028209    0.518447  1.083723  0.002179    1.083174   \n",
            "5             0.478394  0.003275    0.815789  1.705267  0.001355    2.831575   \n",
            "6             0.478394  0.004543    0.530864  1.109680  0.000449    1.111844   \n",
            "7             0.478394  0.005705    0.540000  1.128777  0.000651    1.133926   \n",
            "8             0.478394  0.029583    0.507246  1.060311  0.001683    1.058553   \n",
            "9             0.478394  0.006656    0.504000  1.053525  0.000338    1.051625   \n",
            "10            0.478394  0.020602    0.534247  1.116750  0.002154    1.119919   \n",
            "11            0.478394  0.005388    0.809524  1.692169  0.002204    2.738431   \n",
            "12            0.478394  0.035182    0.569231  1.189878  0.005614    1.210871   \n",
            "13            0.478394  0.047544    0.552147  1.154168  0.006351    1.164682   \n",
            "14            0.478394  0.006550    0.626263  1.309094  0.001547    1.395648   \n",
            "15            0.478394  0.038246    0.532353  1.112792  0.003877    1.115384   \n",
            "16            0.478394  0.018067    0.522936  1.093107  0.001539    1.093366   \n",
            "17            0.478394  0.010882    0.598837  1.251766  0.002189    1.300235   \n",
            "18            0.478394  0.003064    0.630435  1.317815  0.000739    1.411404   \n",
            "19            0.478394  0.003275    0.534483  1.117244  0.000344    1.120487   \n",
            "20            0.478394  0.008452    0.547945  1.145385  0.001073    1.153856   \n",
            "21            0.478394  0.023666    0.704403  1.472431  0.007593    1.764582   \n",
            "22            0.478394  0.003170    0.576923  1.205958  0.000541    1.232887   \n",
            "23            0.478394  0.002324    0.564103  1.179159  0.000353    1.196625   \n",
            "24            0.478394  0.002430    0.511111  1.068389  0.000156    1.066921   \n",
            "25            0.478394  0.002430    0.589744  1.232757  0.000459    1.271414   \n",
            "26            0.478394  0.004226    0.579710  1.211784  0.000739    1.241062   \n",
            "27            0.478394  0.006867    0.601852  1.258067  0.001409    1.310080   \n",
            "28            0.478394  0.003909    0.552239  1.154360  0.000523    1.164920   \n",
            "29            0.478394  0.002536    0.685714  1.433367  0.000767    1.659655   \n",
            "30            0.478394  0.002747    0.530612  1.109153  0.000270    1.111247   \n",
            "31            0.478394  0.004649    0.676923  1.414990  0.001363    1.614495   \n",
            "32            0.478394  0.002853    0.600000  1.254196  0.000578    1.304015   \n",
            "33            0.478394  0.002430    0.547619  1.144703  0.000307    1.153024   \n",
            "34            0.478394  0.003698    0.614035  1.283534  0.000817    1.351434   \n",
            "35            0.478394  0.003698    0.603448  1.261404  0.000766    1.315354   \n",
            "36            0.478394  0.003064    0.644444  1.347100  0.000789    1.467017   \n",
            "37            0.478394  0.003803    0.666667  1.393551  0.001074    1.564818   \n",
            "38            0.478394  0.002536    0.571429  1.194472  0.000413    1.217080   \n",
            "39            0.478394  0.004860    0.528736  1.105230  0.000463    1.106822   \n",
            "40            0.478394  0.003592    0.653846  1.366752  0.000964    1.506862   \n",
            "41            0.478394  0.002113    0.555556  1.161293  0.000293    1.173613   \n",
            "42            0.478394  0.003275    0.508197  1.062297  0.000192    1.060599   \n",
            "\n",
            "    zhangs_metric  \n",
            "0        0.119574  \n",
            "1        0.302021  \n",
            "2        0.209236  \n",
            "3        0.102840  \n",
            "4        0.081700  \n",
            "5        0.415249  \n",
            "6        0.099692  \n",
            "7        0.115303  \n",
            "8        0.060403  \n",
            "9        0.051485  \n",
            "10       0.108738  \n",
            "11       0.411783  \n",
            "12       0.170091  \n",
            "13       0.146161  \n",
            "14       0.238608  \n",
            "15       0.109205  \n",
            "16       0.088224  \n",
            "17       0.204851  \n",
            "18       0.242346  \n",
            "19       0.105587  \n",
            "20       0.128919  \n",
            "21       0.332006  \n",
            "22       0.171727  \n",
            "23       0.152566  \n",
            "24       0.064317  \n",
            "25       0.189591  \n",
            "26       0.176054  \n",
            "27       0.207497  \n",
            "28       0.134672  \n",
            "29       0.303464  \n",
            "30       0.098923  \n",
            "31       0.295309  \n",
            "32       0.203645  \n",
            "33       0.126974  \n",
            "34       0.222239  \n",
            "35       0.208510  \n",
            "36       0.258895  \n",
            "37       0.284029  \n",
            "38       0.163536  \n",
            "39       0.096094  \n",
            "40       0.269821  \n",
            "41       0.139421  \n",
            "42       0.059024  \n"
          ]
        },
        {
          "output_type": "stream",
          "name": "stderr",
          "text": [
            "/usr/local/lib/python3.10/dist-packages/ipykernel/ipkernel.py:283: DeprecationWarning: `should_run_async` will not call `transform_cell` automatically in the future. Please pass the result to `transformed_cell` argument and any exception that happen during thetransform in `preprocessing_exc_tuple` in IPython 7.17 and above.\n",
            "  and should_run_async(code)\n"
          ]
        }
      ]
    },
    {
      "cell_type": "markdown",
      "source": [
        "**TODO:** The association rules analysis reveals valuable insights for the bakery's strategic decision-making. Coffee emerges as a central item, frequently paired with specific pastries like croissants and muffins, suggesting the popularity of these combinations. The morning hours exhibit distinct associations, indicating opportunities for targeted breakfast promotions. The presence of \"NONE\" underscores instances where customers choose not to include certain items, prompting further investigation into customer preferences. These common patterns inform the bakery's product placement strategy, enabling the optimization of promotions for different times of the day. Bundled deals centered around popular item combinations, staff training for upselling, and tailored marketing campaigns aligned with observed associations offer avenues for enhancing the overall customer experience. Additionally, insights from association rules contribute to efficient inventory management and supply chain optimization, ensuring the bakery remains well-equipped with frequently paired items.\n",
        "\n"
      ],
      "metadata": {
        "id": "5S2yopxdyoQc"
      }
    },
    {
      "cell_type": "markdown",
      "source": [
        "## **Q8 - Generate Strong Rules (pt 2)**\n",
        "While reading the documentation for creating [association rules](http://rasbt.github.io/mlxtend/user_guide/frequent_patterns/association_rules/) you notice that there are many other metrics to choose from.  Try creating rules with the following:\n",
        "   - lift > 3\n",
        "   - leverage > 0.004\n",
        "   - conviction > 1.2"
      ],
      "metadata": {
        "id": "HWCIVE8UywEv"
      }
    },
    {
      "cell_type": "code",
      "source": [
        "# Generate association rules with lift > 3, leverage > 0.004, and conviction > 1.2\n",
        "rules_lift = association_rules(frequent_itemsets, metric='lift', min_threshold=3)\n",
        "rules_leverage = association_rules(frequent_itemsets, metric='leverage', min_threshold=0.004)\n",
        "rules_conviction = association_rules(frequent_itemsets, metric='conviction', min_threshold=1.2)\n",
        "\n"
      ],
      "metadata": {
        "id": "S3IOoIYTysUx",
        "colab": {
          "base_uri": "https://localhost:8080/"
        },
        "outputId": "e65a1e95-ff0d-4ef8-b812-6f8ce21266bb"
      },
      "execution_count": null,
      "outputs": [
        {
          "output_type": "stream",
          "name": "stderr",
          "text": [
            "/usr/local/lib/python3.10/dist-packages/ipykernel/ipkernel.py:283: DeprecationWarning: `should_run_async` will not call `transform_cell` automatically in the future. Please pass the result to `transformed_cell` argument and any exception that happen during thetransform in `preprocessing_exc_tuple` in IPython 7.17 and above.\n",
            "  and should_run_async(code)\n"
          ]
        }
      ]
    },
    {
      "cell_type": "code",
      "source": [
        "# Display the generated rules for each metric\n",
        "print(\"Association Rules with Lift > 3:\")\n",
        "print(rules_lift)\n",
        "\n",
        "print(\"\\nAssociation Rules with Leverage > 0.004:\")\n",
        "print(rules_leverage)\n",
        "\n",
        "print(\"\\nAssociation Rules with Conviction > 1.2:\")\n",
        "print(rules_conviction)"
      ],
      "metadata": {
        "id": "e_jiBssJy0yj",
        "colab": {
          "base_uri": "https://localhost:8080/"
        },
        "outputId": "3f6e4d85-f2a4-485b-966a-f34b0414a456"
      },
      "execution_count": null,
      "outputs": [
        {
          "output_type": "stream",
          "name": "stdout",
          "text": [
            "Association Rules with Lift > 3:\n",
            "           antecedents         consequents  antecedent support  \\\n",
            "0               (Coke)          (Sandwich)            0.019440   \n",
            "1           (Sandwich)              (Coke)            0.071844   \n",
            "2              (Fudge)               (Jam)            0.015003   \n",
            "3                (Jam)             (Fudge)            0.015003   \n",
            "4              (Juice)    (Jammie Dodgers)            0.038563   \n",
            "5     (Jammie Dodgers)             (Juice)            0.013207   \n",
            "6              (Juice)    (Spanish Brunch)            0.038563   \n",
            "7     (Spanish Brunch)             (Juice)            0.018172   \n",
            "8      (Mineral water)          (Sandwich)            0.014157   \n",
            "9           (Sandwich)     (Mineral water)            0.071844   \n",
            "10     (Juice, Coffee)           (Cookies)            0.020602   \n",
            "11   (Coffee, Cookies)             (Juice)            0.028209   \n",
            "12             (Juice)   (Coffee, Cookies)            0.038563   \n",
            "13           (Cookies)     (Juice, Coffee)            0.054411   \n",
            "14      (Coffee, Soup)          (Sandwich)            0.015848   \n",
            "15          (Sandwich)      (Coffee, Soup)            0.071844   \n",
            "16  (Coffee, Truffles)          (Sandwich)            0.007501   \n",
            "17          (Sandwich)  (Coffee, Truffles)            0.071844   \n",
            "\n",
            "    consequent support   support  confidence       lift  leverage  conviction  \\\n",
            "0             0.071844  0.005177    0.266304   3.706722  0.003780    1.265043   \n",
            "1             0.019440  0.005177    0.072059   3.706722  0.003780    1.056705   \n",
            "2             0.015003  0.002536    0.169014  11.265622  0.002311    1.185336   \n",
            "3             0.015003  0.002536    0.169014  11.265622  0.002311    1.185336   \n",
            "4             0.013207  0.002113    0.054795   4.149041  0.001604    1.043999   \n",
            "5             0.038563  0.002113    0.160000   4.149041  0.001604    1.144568   \n",
            "6             0.018172  0.002747    0.071233   3.919879  0.002046    1.057130   \n",
            "7             0.038563  0.002747    0.151163   3.919879  0.002046    1.132652   \n",
            "8             0.071844  0.003275    0.231343   3.220094  0.002258    1.207504   \n",
            "9             0.014157  0.003275    0.045588   3.220094  0.002258    1.032932   \n",
            "10            0.054411  0.003698    0.179487   3.298730  0.002577    1.152437   \n",
            "11            0.038563  0.003698    0.131086   3.399261  0.002610    1.106481   \n",
            "12            0.028209  0.003698    0.095890   3.399261  0.002610    1.074860   \n",
            "13            0.020602  0.003698    0.067961   3.298730  0.002577    1.050812   \n",
            "14            0.071844  0.003592    0.226667   3.155000  0.002454    1.200202   \n",
            "15            0.015848  0.003592    0.050000   3.155000  0.002454    1.035950   \n",
            "16            0.071844  0.002113    0.281690   3.920878  0.001574    1.292139   \n",
            "17            0.007501  0.002113    0.029412   3.920878  0.001574    1.022574   \n",
            "\n",
            "    zhangs_metric  \n",
            "0        0.744697  \n",
            "1        0.786742  \n",
            "2        0.925114  \n",
            "3        0.925114  \n",
            "4        0.789423  \n",
            "5        0.769138  \n",
            "6        0.774768  \n",
            "7        0.758677  \n",
            "8        0.699351  \n",
            "9        0.742817  \n",
            "10       0.711512  \n",
            "11       0.726307  \n",
            "12       0.734129  \n",
            "13       0.736951  \n",
            "14       0.694042  \n",
            "15       0.735913  \n",
            "16       0.750585  \n",
            "17       0.802618  \n",
            "\n",
            "Association Rules with Leverage > 0.004:\n",
            "        antecedents      consequents  antecedent support  consequent support  \\\n",
            "0          (Coffee)           (Cake)            0.478394            0.103856   \n",
            "1            (Cake)         (Coffee)            0.103856            0.478394   \n",
            "2            (Cake)  (Hot chocolate)            0.103856            0.058320   \n",
            "3   (Hot chocolate)           (Cake)            0.058320            0.103856   \n",
            "4            (Cake)            (Tea)            0.103856            0.142631   \n",
            "5             (Tea)           (Cake)            0.142631            0.103856   \n",
            "6          (Coffee)      (Medialuna)            0.478394            0.061807   \n",
            "7       (Medialuna)         (Coffee)            0.061807            0.478394   \n",
            "8          (Coffee)         (Pastry)            0.478394            0.086107   \n",
            "9          (Pastry)         (Coffee)            0.086107            0.478394   \n",
            "10          (Toast)         (Coffee)            0.033597            0.478394   \n",
            "11         (Coffee)          (Toast)            0.478394            0.033597   \n",
            "12          (Juice)        (Cookies)            0.038563            0.054411   \n",
            "13        (Cookies)          (Juice)            0.054411            0.038563   \n",
            "14       (Sandwich)            (Tea)            0.071844            0.142631   \n",
            "15            (Tea)       (Sandwich)            0.142631            0.071844   \n",
            "16           (Soup)            (Tea)            0.034443            0.142631   \n",
            "17            (Tea)           (Soup)            0.142631            0.034443   \n",
            "18    (Coffee, Tea)           (Cake)            0.049868            0.103856   \n",
            "19           (Cake)    (Coffee, Tea)            0.103856            0.049868   \n",
            "\n",
            "     support  confidence      lift  leverage  conviction  zhangs_metric  \n",
            "0   0.054728    0.114399  1.101515  0.005044    1.011905       0.176684  \n",
            "1   0.054728    0.526958  1.101515  0.005044    1.102664       0.102840  \n",
            "2   0.011410    0.109868  1.883874  0.005354    1.057910       0.523553  \n",
            "3   0.011410    0.195652  1.883874  0.005354    1.114125       0.498236  \n",
            "4   0.023772    0.228891  1.604781  0.008959    1.111865       0.420538  \n",
            "5   0.023772    0.166667  1.604781  0.008959    1.075372       0.439556  \n",
            "6   0.035182    0.073542  1.189878  0.005614    1.012667       0.305936  \n",
            "7   0.035182    0.569231  1.189878  0.005614    1.210871       0.170091  \n",
            "8   0.047544    0.099382  1.154168  0.006351    1.014740       0.256084  \n",
            "9   0.047544    0.552147  1.154168  0.006351    1.164682       0.146161  \n",
            "10  0.023666    0.704403  1.472431  0.007593    1.764582       0.332006  \n",
            "11  0.023666    0.049470  1.472431  0.007593    1.016699       0.615122  \n",
            "12  0.006128    0.158904  2.920442  0.004030    1.124234       0.683962  \n",
            "13  0.006128    0.112621  2.920442  0.004030    1.083457       0.695425  \n",
            "14  0.014369    0.200000  1.402222  0.004122    1.071712       0.309050  \n",
            "15  0.014369    0.100741  1.402222  0.004122    1.032134       0.334566  \n",
            "16  0.009086    0.263804  1.849557  0.004174    1.164593       0.475715  \n",
            "17  0.009086    0.063704  1.849557  0.004174    1.031252       0.535743  \n",
            "18  0.010037    0.201271  1.937977  0.004858    1.121962       0.509401  \n",
            "19  0.010037    0.096643  1.937977  0.004858    1.051779       0.540090  \n",
            "\n",
            "Association Rules with Conviction > 1.2:\n",
            "                   antecedents consequents  antecedent support  \\\n",
            "0                   (Art Tray)    (Coffee)            0.004015   \n",
            "1                   (Bakewell)    (Coffee)            0.005071   \n",
            "2       (Extra Salami or Feta)    (Coffee)            0.004015   \n",
            "3           (Keeping It Local)    (Coffee)            0.006656   \n",
            "4                  (Medialuna)    (Coffee)            0.061807   \n",
            "5                      (Salad)    (Coffee)            0.010460   \n",
            "6             (Spanish Brunch)    (Coffee)            0.018172   \n",
            "7                    (Tartine)    (Coffee)            0.004860   \n",
            "8                      (Toast)    (Coffee)            0.033597   \n",
            "9             (Vegan mincepie)    (Coffee)            0.005494   \n",
            "10                      (Coke)  (Sandwich)            0.019440   \n",
            "11             (Mineral water)  (Sandwich)            0.014157   \n",
            "12    (Brownie, Hot chocolate)    (Coffee)            0.004120   \n",
            "13             (Cake, Cookies)    (Coffee)            0.007290   \n",
            "14       (Cake, Hot chocolate)    (Coffee)            0.011410   \n",
            "15           (Cake, Medialuna)    (Coffee)            0.003698   \n",
            "16            (Cake, Sandwich)    (Coffee)            0.006867   \n",
            "17               (Cake, Scone)    (Coffee)            0.004754   \n",
            "18    (Cookies, Hot chocolate)    (Coffee)            0.006022   \n",
            "19            (Juice, Cookies)    (Coffee)            0.006128   \n",
            "20  (Medialuna, Hot chocolate)    (Coffee)            0.004754   \n",
            "21     (Pastry, Hot chocolate)    (Coffee)            0.005705   \n",
            "22   (Hot chocolate, Sandwich)    (Coffee)            0.004437   \n",
            "23              (Coffee, Soup)  (Sandwich)            0.015848   \n",
            "24            (Soup, Sandwich)    (Coffee)            0.005494   \n",
            "25          (Coffee, Truffles)  (Sandwich)            0.007501   \n",
            "\n",
            "    consequent support   support  confidence      lift  leverage  conviction  \\\n",
            "0             0.478394  0.002747    0.684211  1.430224  0.000826    1.651752   \n",
            "1             0.478394  0.003064    0.604167  1.262906  0.000638    1.317741   \n",
            "2             0.478394  0.003275    0.815789  1.705267  0.001355    2.831575   \n",
            "3             0.478394  0.005388    0.809524  1.692169  0.002204    2.738431   \n",
            "4             0.478394  0.035182    0.569231  1.189878  0.005614    1.210871   \n",
            "5             0.478394  0.006550    0.626263  1.309094  0.001547    1.395648   \n",
            "6             0.478394  0.010882    0.598837  1.251766  0.002189    1.300235   \n",
            "7             0.478394  0.003064    0.630435  1.317815  0.000739    1.411404   \n",
            "8             0.478394  0.023666    0.704403  1.472431  0.007593    1.764582   \n",
            "9             0.478394  0.003170    0.576923  1.205958  0.000541    1.232887   \n",
            "10            0.071844  0.005177    0.266304  3.706722  0.003780    1.265043   \n",
            "11            0.071844  0.003275    0.231343  3.220094  0.002258    1.207504   \n",
            "12            0.478394  0.002430    0.589744  1.232757  0.000459    1.271414   \n",
            "13            0.478394  0.004226    0.579710  1.211784  0.000739    1.241062   \n",
            "14            0.478394  0.006867    0.601852  1.258067  0.001409    1.310080   \n",
            "15            0.478394  0.002536    0.685714  1.433367  0.000767    1.659655   \n",
            "16            0.478394  0.004649    0.676923  1.414990  0.001363    1.614495   \n",
            "17            0.478394  0.002853    0.600000  1.254196  0.000578    1.304015   \n",
            "18            0.478394  0.003698    0.614035  1.283534  0.000817    1.351434   \n",
            "19            0.478394  0.003698    0.603448  1.261404  0.000766    1.315354   \n",
            "20            0.478394  0.003064    0.644444  1.347100  0.000789    1.467017   \n",
            "21            0.478394  0.003803    0.666667  1.393551  0.001074    1.564818   \n",
            "22            0.478394  0.002536    0.571429  1.194472  0.000413    1.217080   \n",
            "23            0.071844  0.003592    0.226667  3.155000  0.002454    1.200202   \n",
            "24            0.478394  0.003592    0.653846  1.366752  0.000964    1.506862   \n",
            "25            0.071844  0.002113    0.281690  3.920878  0.001574    1.292139   \n",
            "\n",
            "    zhangs_metric  \n",
            "0        0.302021  \n",
            "1        0.209236  \n",
            "2        0.415249  \n",
            "3        0.411783  \n",
            "4        0.170091  \n",
            "5        0.238608  \n",
            "6        0.204851  \n",
            "7        0.242346  \n",
            "8        0.332006  \n",
            "9        0.171727  \n",
            "10       0.744697  \n",
            "11       0.699351  \n",
            "12       0.189591  \n",
            "13       0.176054  \n",
            "14       0.207497  \n",
            "15       0.303464  \n",
            "16       0.295309  \n",
            "17       0.203645  \n",
            "18       0.222239  \n",
            "19       0.208510  \n",
            "20       0.258895  \n",
            "21       0.284029  \n",
            "22       0.163536  \n",
            "23       0.694042  \n",
            "24       0.269821  \n",
            "25       0.750585  \n"
          ]
        },
        {
          "output_type": "stream",
          "name": "stderr",
          "text": [
            "/usr/local/lib/python3.10/dist-packages/ipykernel/ipkernel.py:283: DeprecationWarning: `should_run_async` will not call `transform_cell` automatically in the future. Please pass the result to `transformed_cell` argument and any exception that happen during thetransform in `preprocessing_exc_tuple` in IPython 7.17 and above.\n",
            "  and should_run_async(code)\n"
          ]
        }
      ]
    },
    {
      "cell_type": "markdown",
      "source": [
        "## **Q9 - Find the Maximal Itemsets**\n",
        "Using the frequent itemsets and support counts in Q3, find and display all the maximal frequent itemsets along with their support fraction. Also print a count of how many maximal frequent itemsets you have found. (MLxtend does not provide a function to do this - you will need to write it yourself.)"
      ],
      "metadata": {
        "id": "Qu7Ore4Uy2LL"
      }
    },
    {
      "cell_type": "code",
      "source": [
        "maximal_itemsets = []\n",
        "\n",
        "for idx, itemset in frequent_itemsets.iterrows():\n",
        "    is_maximal = True\n",
        "\n",
        "    for maximal_set in maximal_itemsets:\n",
        "        if maximal_set.issuperset(itemset['itemsets']):\n",
        "            is_maximal = False\n",
        "            break\n",
        "\n",
        "    if is_maximal:\n",
        "        maximal_itemsets.append(set(itemset['itemsets']))\n",
        "\n",
        "# Display maximal frequent itemsets and their support fractions\n",
        "print(\"Maximal Frequent Itemsets:\")\n",
        "for itemset in maximal_itemsets:\n",
        "    support = frequent_itemsets[frequent_itemsets['itemsets'] == frozenset(itemset)]['support'].values[0]\n",
        "    print(f\"Itemset: {itemset}, Support Fraction: {support:.4f}\")\n",
        "\n",
        "# Print the count of maximal frequent itemsets\n",
        "print(f\"\\nNumber of Maximal Frequent Itemsets: {len(maximal_itemsets)}\")\n"
      ],
      "metadata": {
        "id": "qj8zLDory4si",
        "colab": {
          "base_uri": "https://localhost:8080/"
        },
        "outputId": "e1c74a33-3cb8-4d65-f28d-91bfa7dff21c"
      },
      "execution_count": null,
      "outputs": [
        {
          "output_type": "stream",
          "name": "stderr",
          "text": [
            "/usr/local/lib/python3.10/dist-packages/ipykernel/ipkernel.py:283: DeprecationWarning: `should_run_async` will not call `transform_cell` automatically in the future. Please pass the result to `transformed_cell` argument and any exception that happen during thetransform in `preprocessing_exc_tuple` in IPython 7.17 and above.\n",
            "  and should_run_async(code)\n"
          ]
        },
        {
          "output_type": "stream",
          "name": "stdout",
          "text": [
            "Maximal Frequent Itemsets:\n",
            "Itemset: {'Afternoon with the baker'}, Support Fraction: 0.0045\n",
            "Itemset: {'Alfajores'}, Support Fraction: 0.0363\n",
            "Itemset: {'Art Tray'}, Support Fraction: 0.0040\n",
            "Itemset: {'Baguette'}, Support Fraction: 0.0161\n",
            "Itemset: {'Bakewell'}, Support Fraction: 0.0051\n",
            "Itemset: {'Bread'}, Support Fraction: 0.3272\n",
            "Itemset: {'Brownie'}, Support Fraction: 0.0400\n",
            "Itemset: {'Cake'}, Support Fraction: 0.1039\n",
            "Itemset: {'Chicken Stew'}, Support Fraction: 0.0130\n",
            "Itemset: {'Coffee'}, Support Fraction: 0.4784\n",
            "Itemset: {'Coke'}, Support Fraction: 0.0194\n",
            "Itemset: {'Cookies'}, Support Fraction: 0.0544\n",
            "Itemset: {'Eggs'}, Support Fraction: 0.0030\n",
            "Itemset: {'Extra Salami or Feta'}, Support Fraction: 0.0040\n",
            "Itemset: {'Farm House'}, Support Fraction: 0.0392\n",
            "Itemset: {'Focaccia'}, Support Fraction: 0.0057\n",
            "Itemset: {'Frittata'}, Support Fraction: 0.0086\n",
            "Itemset: {'Fudge'}, Support Fraction: 0.0150\n",
            "Itemset: {'Granola'}, Support Fraction: 0.0030\n",
            "Itemset: {'Hearty & Seasonal'}, Support Fraction: 0.0106\n",
            "Itemset: {'Hot chocolate'}, Support Fraction: 0.0583\n",
            "Itemset: {'Jam'}, Support Fraction: 0.0150\n",
            "Itemset: {'Jammie Dodgers'}, Support Fraction: 0.0132\n",
            "Itemset: {'Juice'}, Support Fraction: 0.0386\n",
            "Itemset: {'Keeping It Local'}, Support Fraction: 0.0067\n",
            "Itemset: {'Medialuna'}, Support Fraction: 0.0618\n",
            "Itemset: {'Mineral water'}, Support Fraction: 0.0142\n",
            "Itemset: {'Muffin'}, Support Fraction: 0.0385\n",
            "Itemset: {'Pastry'}, Support Fraction: 0.0861\n",
            "Itemset: {'Salad'}, Support Fraction: 0.0105\n",
            "Itemset: {'Sandwich'}, Support Fraction: 0.0718\n",
            "Itemset: {'Scandinavian'}, Support Fraction: 0.0291\n",
            "Itemset: {'Scone'}, Support Fraction: 0.0345\n",
            "Itemset: {'Smoothies'}, Support Fraction: 0.0081\n",
            "Itemset: {'Soup'}, Support Fraction: 0.0344\n",
            "Itemset: {'Spanish Brunch'}, Support Fraction: 0.0182\n",
            "Itemset: {'Tartine'}, Support Fraction: 0.0049\n",
            "Itemset: {'Tea'}, Support Fraction: 0.1426\n",
            "Itemset: {'The Nomad'}, Support Fraction: 0.0061\n",
            "Itemset: {'Tiffin'}, Support Fraction: 0.0154\n",
            "Itemset: {'Toast'}, Support Fraction: 0.0336\n",
            "Itemset: {'Truffles'}, Support Fraction: 0.0203\n",
            "Itemset: {'Tshirt'}, Support Fraction: 0.0022\n",
            "Itemset: {'Vegan mincepie'}, Support Fraction: 0.0055\n",
            "Itemset: {'Bread', 'Alfajores'}, Support Fraction: 0.0104\n",
            "Itemset: {'Brownie', 'Alfajores'}, Support Fraction: 0.0029\n",
            "Itemset: {'Cake', 'Alfajores'}, Support Fraction: 0.0041\n",
            "Itemset: {'Coffee', 'Alfajores'}, Support Fraction: 0.0197\n",
            "Itemset: {'Cookies', 'Alfajores'}, Support Fraction: 0.0024\n",
            "Itemset: {'Hot chocolate', 'Alfajores'}, Support Fraction: 0.0036\n",
            "Itemset: {'Juice', 'Alfajores'}, Support Fraction: 0.0031\n",
            "Itemset: {'Medialuna', 'Alfajores'}, Support Fraction: 0.0032\n",
            "Itemset: {'Pastry', 'Alfajores'}, Support Fraction: 0.0033\n",
            "Itemset: {'Sandwich', 'Alfajores'}, Support Fraction: 0.0026\n",
            "Itemset: {'Tea', 'Alfajores'}, Support Fraction: 0.0068\n",
            "Itemset: {'Art Tray', 'Coffee'}, Support Fraction: 0.0027\n",
            "Itemset: {'Baguette', 'Bread'}, Support Fraction: 0.0027\n",
            "Itemset: {'Coffee', 'Baguette'}, Support Fraction: 0.0030\n",
            "Itemset: {'Bakewell', 'Coffee'}, Support Fraction: 0.0031\n",
            "Itemset: {'Brownie', 'Bread'}, Support Fraction: 0.0108\n",
            "Itemset: {'Cake', 'Bread'}, Support Fraction: 0.0233\n",
            "Itemset: {'Chicken Stew', 'Bread'}, Support Fraction: 0.0027\n",
            "Itemset: {'Coffee', 'Bread'}, Support Fraction: 0.0900\n",
            "Itemset: {'Cookies', 'Bread'}, Support Fraction: 0.0145\n",
            "Itemset: {'Farm House', 'Bread'}, Support Fraction: 0.0050\n",
            "Itemset: {'Frittata', 'Bread'}, Support Fraction: 0.0026\n",
            "Itemset: {'Fudge', 'Bread'}, Support Fraction: 0.0033\n",
            "Itemset: {'Hearty & Seasonal', 'Bread'}, Support Fraction: 0.0026\n",
            "Itemset: {'Hot chocolate', 'Bread'}, Support Fraction: 0.0134\n",
            "Itemset: {'Jam', 'Bread'}, Support Fraction: 0.0051\n",
            "Itemset: {'Jammie Dodgers', 'Bread'}, Support Fraction: 0.0046\n",
            "Itemset: {'Juice', 'Bread'}, Support Fraction: 0.0074\n",
            "Itemset: {'Keeping It Local', 'Bread'}, Support Fraction: 0.0022\n",
            "Itemset: {'Medialuna', 'Bread'}, Support Fraction: 0.0169\n",
            "Itemset: {'Mineral water', 'Bread'}, Support Fraction: 0.0032\n",
            "Itemset: {'Muffin', 'Bread'}, Support Fraction: 0.0081\n",
            "Itemset: {'Pastry', 'Bread'}, Support Fraction: 0.0292\n",
            "Itemset: {'Sandwich', 'Bread'}, Support Fraction: 0.0170\n",
            "Itemset: {'Scandinavian', 'Bread'}, Support Fraction: 0.0066\n",
            "Itemset: {'Scone', 'Bread'}, Support Fraction: 0.0091\n",
            "Itemset: {'Smoothies', 'Bread'}, Support Fraction: 0.0024\n",
            "Itemset: {'Soup', 'Bread'}, Support Fraction: 0.0066\n",
            "Itemset: {'Spanish Brunch', 'Bread'}, Support Fraction: 0.0048\n",
            "Itemset: {'Bread', 'Tea'}, Support Fraction: 0.0281\n",
            "Itemset: {'Tiffin', 'Bread'}, Support Fraction: 0.0049\n",
            "Itemset: {'Toast', 'Bread'}, Support Fraction: 0.0078\n",
            "Itemset: {'Truffles', 'Bread'}, Support Fraction: 0.0050\n",
            "Itemset: {'Brownie', 'Cake'}, Support Fraction: 0.0044\n",
            "Itemset: {'Brownie', 'Coffee'}, Support Fraction: 0.0197\n",
            "Itemset: {'Brownie', 'Cookies'}, Support Fraction: 0.0025\n",
            "Itemset: {'Brownie', 'Hot chocolate'}, Support Fraction: 0.0041\n",
            "Itemset: {'Juice', 'Brownie'}, Support Fraction: 0.0025\n",
            "Itemset: {'Brownie', 'Pastry'}, Support Fraction: 0.0024\n",
            "Itemset: {'Brownie', 'Sandwich'}, Support Fraction: 0.0023\n",
            "Itemset: {'Brownie', 'Tea'}, Support Fraction: 0.0068\n",
            "Itemset: {'Coffee', 'Cake'}, Support Fraction: 0.0547\n",
            "Itemset: {'Cake', 'Cookies'}, Support Fraction: 0.0073\n",
            "Itemset: {'Cake', 'Hot chocolate'}, Support Fraction: 0.0114\n",
            "Itemset: {'Jammie Dodgers', 'Cake'}, Support Fraction: 0.0031\n",
            "Itemset: {'Juice', 'Cake'}, Support Fraction: 0.0071\n",
            "Itemset: {'Cake', 'Medialuna'}, Support Fraction: 0.0037\n",
            "Itemset: {'Muffin', 'Cake'}, Support Fraction: 0.0049\n",
            "Itemset: {'Cake', 'Pastry'}, Support Fraction: 0.0052\n",
            "Itemset: {'Cake', 'Sandwich'}, Support Fraction: 0.0069\n",
            "Itemset: {'Cake', 'Scone'}, Support Fraction: 0.0048\n",
            "Itemset: {'Cake', 'Soup'}, Support Fraction: 0.0044\n",
            "Itemset: {'Cake', 'Spanish Brunch'}, Support Fraction: 0.0023\n",
            "Itemset: {'Cake', 'Tea'}, Support Fraction: 0.0238\n",
            "Itemset: {'Cake', 'Tiffin'}, Support Fraction: 0.0023\n",
            "Itemset: {'Toast', 'Cake'}, Support Fraction: 0.0022\n",
            "Itemset: {'Cake', 'Truffles'}, Support Fraction: 0.0026\n",
            "Itemset: {'Coffee', 'Chicken Stew'}, Support Fraction: 0.0052\n",
            "Itemset: {'Chicken Stew', 'Tea'}, Support Fraction: 0.0032\n",
            "Itemset: {'Coke', 'Coffee'}, Support Fraction: 0.0064\n",
            "Itemset: {'Coffee', 'Cookies'}, Support Fraction: 0.0282\n",
            "Itemset: {'Coffee', 'Extra Salami or Feta'}, Support Fraction: 0.0033\n",
            "Itemset: {'Coffee', 'Farm House'}, Support Fraction: 0.0067\n",
            "Itemset: {'Coffee', 'Frittata'}, Support Fraction: 0.0045\n",
            "Itemset: {'Coffee', 'Fudge'}, Support Fraction: 0.0033\n",
            "Itemset: {'Hearty & Seasonal', 'Coffee'}, Support Fraction: 0.0057\n",
            "Itemset: {'Coffee', 'Hot chocolate'}, Support Fraction: 0.0296\n",
            "Itemset: {'Coffee', 'Jam'}, Support Fraction: 0.0041\n",
            "Itemset: {'Jammie Dodgers', 'Coffee'}, Support Fraction: 0.0067\n",
            "Itemset: {'Juice', 'Coffee'}, Support Fraction: 0.0206\n",
            "Itemset: {'Coffee', 'Keeping It Local'}, Support Fraction: 0.0054\n",
            "Itemset: {'Coffee', 'Medialuna'}, Support Fraction: 0.0352\n",
            "Itemset: {'Mineral water', 'Coffee'}, Support Fraction: 0.0056\n",
            "Itemset: {'Muffin', 'Coffee'}, Support Fraction: 0.0188\n",
            "Itemset: {'Coffee', 'Pastry'}, Support Fraction: 0.0475\n",
            "Itemset: {'Coffee', 'Salad'}, Support Fraction: 0.0066\n",
            "Itemset: {'Coffee', 'Sandwich'}, Support Fraction: 0.0382\n",
            "Itemset: {'Scandinavian', 'Coffee'}, Support Fraction: 0.0049\n",
            "Itemset: {'Coffee', 'Scone'}, Support Fraction: 0.0181\n",
            "Itemset: {'Smoothies', 'Coffee'}, Support Fraction: 0.0040\n",
            "Itemset: {'Coffee', 'Soup'}, Support Fraction: 0.0158\n",
            "Itemset: {'Coffee', 'Spanish Brunch'}, Support Fraction: 0.0109\n",
            "Itemset: {'Tartine', 'Coffee'}, Support Fraction: 0.0031\n",
            "Itemset: {'Coffee', 'Tea'}, Support Fraction: 0.0499\n",
            "Itemset: {'Coffee', 'The Nomad'}, Support Fraction: 0.0033\n",
            "Itemset: {'Coffee', 'Tiffin'}, Support Fraction: 0.0085\n",
            "Itemset: {'Toast', 'Coffee'}, Support Fraction: 0.0237\n",
            "Itemset: {'Coffee', 'Truffles'}, Support Fraction: 0.0075\n",
            "Itemset: {'Vegan mincepie', 'Coffee'}, Support Fraction: 0.0032\n",
            "Itemset: {'Juice', 'Coke'}, Support Fraction: 0.0022\n",
            "Itemset: {'Coke', 'Sandwich'}, Support Fraction: 0.0052\n",
            "Itemset: {'Coke', 'Tea'}, Support Fraction: 0.0022\n",
            "Itemset: {'Cookies', 'Hot chocolate'}, Support Fraction: 0.0060\n",
            "Itemset: {'Juice', 'Cookies'}, Support Fraction: 0.0061\n",
            "Itemset: {'Medialuna', 'Cookies'}, Support Fraction: 0.0025\n",
            "Itemset: {'Pastry', 'Cookies'}, Support Fraction: 0.0030\n",
            "Itemset: {'Cookies', 'Sandwich'}, Support Fraction: 0.0029\n",
            "Itemset: {'Cookies', 'Tea'}, Support Fraction: 0.0098\n",
            "Itemset: {'Toast', 'Cookies'}, Support Fraction: 0.0022\n",
            "Itemset: {'Farm House', 'Medialuna'}, Support Fraction: 0.0023\n",
            "Itemset: {'Farm House', 'Pastry'}, Support Fraction: 0.0027\n",
            "Itemset: {'Fudge', 'Jam'}, Support Fraction: 0.0025\n",
            "Itemset: {'Juice', 'Hot chocolate'}, Support Fraction: 0.0022\n",
            "Itemset: {'Medialuna', 'Hot chocolate'}, Support Fraction: 0.0048\n",
            "Itemset: {'Muffin', 'Hot chocolate'}, Support Fraction: 0.0036\n",
            "Itemset: {'Pastry', 'Hot chocolate'}, Support Fraction: 0.0057\n",
            "Itemset: {'Sandwich', 'Hot chocolate'}, Support Fraction: 0.0044\n",
            "Itemset: {'Scone', 'Hot chocolate'}, Support Fraction: 0.0030\n",
            "Itemset: {'Hot chocolate', 'Tea'}, Support Fraction: 0.0080\n",
            "Itemset: {'Toast', 'Hot chocolate'}, Support Fraction: 0.0031\n",
            "Itemset: {'Juice', 'Jammie Dodgers'}, Support Fraction: 0.0021\n",
            "Itemset: {'Jammie Dodgers', 'Tea'}, Support Fraction: 0.0025\n",
            "Itemset: {'Juice', 'Medialuna'}, Support Fraction: 0.0021\n",
            "Itemset: {'Muffin', 'Juice'}, Support Fraction: 0.0027\n",
            "Itemset: {'Juice', 'Pastry'}, Support Fraction: 0.0023\n",
            "Itemset: {'Juice', 'Sandwich'}, Support Fraction: 0.0058\n",
            "Itemset: {'Juice', 'Spanish Brunch'}, Support Fraction: 0.0027\n",
            "Itemset: {'Juice', 'Tea'}, Support Fraction: 0.0072\n",
            "Itemset: {'Toast', 'Juice'}, Support Fraction: 0.0023\n",
            "Itemset: {'Pastry', 'Medialuna'}, Support Fraction: 0.0092\n",
            "Itemset: {'Medialuna', 'Sandwich'}, Support Fraction: 0.0021\n",
            "Itemset: {'Medialuna', 'Tea'}, Support Fraction: 0.0081\n",
            "Itemset: {'Mineral water', 'Sandwich'}, Support Fraction: 0.0033\n",
            "Itemset: {'Muffin', 'Pastry'}, Support Fraction: 0.0025\n",
            "Itemset: {'Muffin', 'Sandwich'}, Support Fraction: 0.0021\n",
            "Itemset: {'Muffin', 'Tea'}, Support Fraction: 0.0066\n",
            "Itemset: {'Scone', 'Pastry'}, Support Fraction: 0.0024\n",
            "Itemset: {'Pastry', 'Tea'}, Support Fraction: 0.0096\n",
            "Itemset: {'Soup', 'Sandwich'}, Support Fraction: 0.0055\n",
            "Itemset: {'Sandwich', 'Tea'}, Support Fraction: 0.0144\n",
            "Itemset: {'Truffles', 'Sandwich'}, Support Fraction: 0.0038\n",
            "Itemset: {'Scone', 'Tea'}, Support Fraction: 0.0083\n",
            "Itemset: {'Soup', 'Tea'}, Support Fraction: 0.0091\n",
            "Itemset: {'Spanish Brunch', 'Tea'}, Support Fraction: 0.0046\n",
            "Itemset: {'Tiffin', 'Tea'}, Support Fraction: 0.0035\n",
            "Itemset: {'Toast', 'Tea'}, Support Fraction: 0.0064\n",
            "Itemset: {'Truffles', 'Tea'}, Support Fraction: 0.0031\n",
            "Itemset: {'Coffee', 'Bread', 'Alfajores'}, Support Fraction: 0.0043\n",
            "Itemset: {'Coffee', 'Cake', 'Alfajores'}, Support Fraction: 0.0023\n",
            "Itemset: {'Tea', 'Coffee', 'Alfajores'}, Support Fraction: 0.0031\n",
            "Itemset: {'Brownie', 'Coffee', 'Bread'}, Support Fraction: 0.0038\n",
            "Itemset: {'Coffee', 'Cake', 'Bread'}, Support Fraction: 0.0100\n",
            "Itemset: {'Cake', 'Bread', 'Tea'}, Support Fraction: 0.0049\n",
            "Itemset: {'Coffee', 'Cookies', 'Bread'}, Support Fraction: 0.0053\n",
            "Itemset: {'Coffee', 'Hot chocolate', 'Bread'}, Support Fraction: 0.0061\n",
            "Itemset: {'Juice', 'Coffee', 'Bread'}, Support Fraction: 0.0030\n",
            "Itemset: {'Coffee', 'Medialuna', 'Bread'}, Support Fraction: 0.0068\n",
            "Itemset: {'Muffin', 'Coffee', 'Bread'}, Support Fraction: 0.0024\n",
            "Itemset: {'Coffee', 'Pastry', 'Bread'}, Support Fraction: 0.0112\n",
            "Itemset: {'Coffee', 'Sandwich', 'Bread'}, Support Fraction: 0.0072\n",
            "Itemset: {'Coffee', 'Scone', 'Bread'}, Support Fraction: 0.0035\n",
            "Itemset: {'Coffee', 'Soup', 'Bread'}, Support Fraction: 0.0022\n",
            "Itemset: {'Coffee', 'Spanish Brunch', 'Bread'}, Support Fraction: 0.0024\n",
            "Itemset: {'Coffee', 'Bread', 'Tea'}, Support Fraction: 0.0074\n",
            "Itemset: {'Coffee', 'Tiffin', 'Bread'}, Support Fraction: 0.0023\n",
            "Itemset: {'Toast', 'Coffee', 'Bread'}, Support Fraction: 0.0037\n",
            "Itemset: {'Pastry', 'Medialuna', 'Bread'}, Support Fraction: 0.0024\n",
            "Itemset: {'Bread', 'Medialuna', 'Tea'}, Support Fraction: 0.0021\n",
            "Itemset: {'Bread', 'Pastry', 'Tea'}, Support Fraction: 0.0024\n",
            "Itemset: {'Bread', 'Sandwich', 'Tea'}, Support Fraction: 0.0027\n",
            "Itemset: {'Coffee', 'Cake', 'Brownie'}, Support Fraction: 0.0021\n",
            "Itemset: {'Brownie', 'Coffee', 'Hot chocolate'}, Support Fraction: 0.0024\n",
            "Itemset: {'Brownie', 'Coffee', 'Tea'}, Support Fraction: 0.0022\n",
            "Itemset: {'Coffee', 'Cake', 'Cookies'}, Support Fraction: 0.0042\n",
            "Itemset: {'Coffee', 'Cake', 'Hot chocolate'}, Support Fraction: 0.0069\n",
            "Itemset: {'Juice', 'Cake', 'Coffee'}, Support Fraction: 0.0039\n",
            "Itemset: {'Coffee', 'Cake', 'Medialuna'}, Support Fraction: 0.0025\n",
            "Itemset: {'Muffin', 'Coffee', 'Cake'}, Support Fraction: 0.0023\n",
            "Itemset: {'Coffee', 'Cake', 'Pastry'}, Support Fraction: 0.0027\n",
            "Itemset: {'Coffee', 'Cake', 'Sandwich'}, Support Fraction: 0.0046\n",
            "Itemset: {'Coffee', 'Scone', 'Cake'}, Support Fraction: 0.0029\n",
            "Itemset: {'Coffee', 'Soup', 'Cake'}, Support Fraction: 0.0024\n",
            "Itemset: {'Coffee', 'Cake', 'Tea'}, Support Fraction: 0.0100\n",
            "Itemset: {'Coffee', 'Cookies', 'Hot chocolate'}, Support Fraction: 0.0037\n",
            "Itemset: {'Juice', 'Coffee', 'Cookies'}, Support Fraction: 0.0037\n",
            "Itemset: {'Coffee', 'Cookies', 'Tea'}, Support Fraction: 0.0039\n",
            "Itemset: {'Coffee', 'Medialuna', 'Hot chocolate'}, Support Fraction: 0.0031\n",
            "Itemset: {'Coffee', 'Pastry', 'Hot chocolate'}, Support Fraction: 0.0038\n",
            "Itemset: {'Coffee', 'Sandwich', 'Hot chocolate'}, Support Fraction: 0.0025\n",
            "Itemset: {'Juice', 'Coffee', 'Sandwich'}, Support Fraction: 0.0027\n",
            "Itemset: {'Coffee', 'Pastry', 'Medialuna'}, Support Fraction: 0.0049\n",
            "Itemset: {'Coffee', 'Medialuna', 'Tea'}, Support Fraction: 0.0037\n",
            "Itemset: {'Muffin', 'Coffee', 'Tea'}, Support Fraction: 0.0029\n",
            "Itemset: {'Coffee', 'Pastry', 'Tea'}, Support Fraction: 0.0046\n",
            "Itemset: {'Coffee', 'Soup', 'Sandwich'}, Support Fraction: 0.0036\n",
            "Itemset: {'Coffee', 'Sandwich', 'Tea'}, Support Fraction: 0.0054\n",
            "Itemset: {'Coffee', 'Truffles', 'Sandwich'}, Support Fraction: 0.0021\n",
            "Itemset: {'Coffee', 'Scone', 'Tea'}, Support Fraction: 0.0034\n",
            "Itemset: {'Coffee', 'Soup', 'Tea'}, Support Fraction: 0.0027\n",
            "Itemset: {'Toast', 'Coffee', 'Tea'}, Support Fraction: 0.0033\n",
            "\n",
            "Number of Maximal Frequent Itemsets: 244\n"
          ]
        }
      ]
    },
    {
      "cell_type": "markdown",
      "source": [
        "## **Q10 - Create Actionable Buisness Insight**\n",
        "Pretend you are a consultant contracted to work for this bakery and come up with a promotion to increase sales. You have performed the above analysis, now how would you suggest the bakery use this data?\n",
        "\n",
        "Be creative.  It could be in training employees, programming the cash register, advertising specials, etc.. Describe your approach and why you think the data supports it.  "
      ],
      "metadata": {
        "id": "fpbA2gg4y67a"
      }
    },
    {
      "cell_type": "code",
      "source": [
        "# Assuming you have information about transactions and items, and a DataFrame named 'transactions_df'\n",
        "# Adjust the DataFrame and column names based on your actual data\n",
        "\n",
        "# Import necessary libraries\n",
        "import pandas as pd\n",
        "from datetime import datetime\n",
        "\n",
        "# Sample transactions data\n",
        "data = {'TransactionID': [1, 2, 3, 4, 5],\n",
        "        'Item': ['Coffee', 'Croissant', 'Muffin', 'Coffee', 'Croissant'],\n",
        "        'Datetime': ['2023-11-28 08:30:00', '2023-11-28 08:45:00', '2023-11-28 09:00:00', '2023-11-28 10:15:00', '2023-11-28 10:30:00']}\n",
        "transactions_df = pd.DataFrame(data)\n",
        "transactions_df['Datetime'] = pd.to_datetime(transactions_df['Datetime'])\n",
        "\n",
        "# Define the morning hours for the promotion\n",
        "morning_start = datetime.strptime('07:00', '%H:%M').time()\n",
        "morning_end = datetime.strptime('11:00', '%H:%M').time()\n",
        "\n",
        "# Filter transactions for the morning hours\n",
        "morning_transactions = transactions_df[(transactions_df['Datetime'].dt.time >= morning_start) & (transactions_df['Datetime'].dt.time <= morning_end)]\n",
        "\n",
        "# Function to check if a transaction includes both coffee and a pastry\n",
        "def has_coffee_and_pastry(items):\n",
        "    return ('Coffee' in items) and ('Croissant' in items or 'Muffin' in items)\n",
        "\n",
        "# Apply the function to identify qualifying transactions\n",
        "morning_transactions['Qualifies'] = morning_transactions.groupby('TransactionID')['Item'].transform(has_coffee_and_pastry)\n",
        "\n",
        "# Display qualifying transactions for the Sweet Morning Combo\n",
        "sweet_morning_combo_transactions = morning_transactions[morning_transactions['Qualifies']].drop_duplicates(subset='TransactionID')\n",
        "print(\"Qualifying Transactions for Sweet Morning Combo:\")\n",
        "print(sweet_morning_combo_transactions[['TransactionID', 'Datetime', 'Item']])\n",
        "\n",
        "# Calculate the total price with discount for the Sweet Morning Combo\n",
        "sweet_morning_combo_transactions['TotalPriceWithDiscount'] = 4.99  # Assuming a fixed discounted price for the combo\n",
        "\n",
        "# Display the total price for each qualifying transaction\n",
        "print(\"\\nTotal Price with Discount for Sweet Morning Combo:\")\n",
        "print(sweet_morning_combo_transactions[['TransactionID', 'TotalPriceWithDiscount']])\n"
      ],
      "metadata": {
        "id": "nP8SPjqTy9oC",
        "colab": {
          "base_uri": "https://localhost:8080/"
        },
        "outputId": "e340b3ec-36ae-4d8c-d9cb-da3d466622b5"
      },
      "execution_count": null,
      "outputs": [
        {
          "output_type": "stream",
          "name": "stdout",
          "text": [
            "Qualifying Transactions for Sweet Morning Combo:\n",
            "Empty DataFrame\n",
            "Columns: [TransactionID, Datetime, Item]\n",
            "Index: []\n",
            "\n",
            "Total Price with Discount for Sweet Morning Combo:\n",
            "Empty DataFrame\n",
            "Columns: [TransactionID, TotalPriceWithDiscount]\n",
            "Index: []\n"
          ]
        },
        {
          "output_type": "stream",
          "name": "stderr",
          "text": [
            "/usr/local/lib/python3.10/dist-packages/ipykernel/ipkernel.py:283: DeprecationWarning: `should_run_async` will not call `transform_cell` automatically in the future. Please pass the result to `transformed_cell` argument and any exception that happen during thetransform in `preprocessing_exc_tuple` in IPython 7.17 and above.\n",
            "  and should_run_async(code)\n"
          ]
        }
      ]
    }
  ]
}