{
  "nbformat": 4,
  "nbformat_minor": 0,
  "metadata": {
    "colab": {
      "provenance": []
    },
    "kernelspec": {
      "name": "python3",
      "display_name": "Python 3"
    },
    "language_info": {
      "name": "python"
    }
  },
  "cells": [
    {
      "cell_type": "markdown",
      "source": [
        "## **8 Ensemble Methods**\n",
        "\n",
        "\n",
        "\n",
        "### **Introduction**\n",
        "\n",
        "\n",
        "I am going explore two ensemble methods:\n",
        "\n",
        "  - AdaBoost, and\n",
        "  - Random Forests\n",
        "\n",
        "And make a recommendation for a bank about which model they should use in production for better fraud detection.\n",
        "\n",
        "### **Dataset**\n",
        "  \n",
        "The dataset contains transactions made by credit cards in September 2013 by european cardholders. This dataset presents transactions that occurred in two days, where we have 237 frauds out of 142,167 transactions. The dataset is highly unbalanced, the positive class (frauds) account for 0.17% of all transactions.\n",
        "\n",
        "It contains only numerical input variables which are the result of a [PCA transformation](https://en.wikipedia.org/wiki/Principal_component_analysis). Unfortunately, due to confidentiality issues, we cannot provide the original features and more background information about the data. Features V1, V2, … V28 are the principal components obtained with PCA, the only features which have not been transformed with PCA are 'Time' and 'Amount'. Feature 'Time' contains the seconds elapsed between each transaction and the first transaction in the dataset. The feature 'Amount' is the transaction Amount in Euros. Feature 'Class' is the response variable and it takes value 1 in case of fraud and 0 otherwise."
      ],
      "metadata": {
        "id": "2ei_wNjwbMVN"
      }
    },
    {
      "cell_type": "code",
      "source": [
        "# These are the libraries you will use for this assignment, you may not import anything else\n",
        "import pandas as pd\n",
        "import numpy as np\n",
        "import matplotlib.pyplot as plt\n",
        "%matplotlib inline\n",
        "from sklearn.ensemble import AdaBoostClassifier\n",
        "from sklearn.ensemble import RandomForestClassifier\n",
        "from sklearn.model_selection import StratifiedKFold\n",
        "from sklearn.metrics import roc_curve, RocCurveDisplay, auc\n",
        "\n",
        "# This is the credit card data provided, we'll use sklearn\n",
        "# methods to do cross validation to estimate error\n",
        "df_cc = pd.read_csv('cc.csv', error_bad_lines=False)"
      ],
      "metadata": {
        "id": "jETuQ9egbKwd",
        "colab": {
          "base_uri": "https://localhost:8080/"
        },
        "outputId": "7ce47b8f-7dca-49ea-8719-159e76a99ac1"
      },
      "execution_count": null,
      "outputs": [
        {
          "output_type": "stream",
          "name": "stderr",
          "text": [
            "<ipython-input-46-dca1f411c0cc>:13: FutureWarning: The error_bad_lines argument has been deprecated and will be removed in a future version. Use on_bad_lines in the future.\n",
            "\n",
            "\n",
            "  df_cc = pd.read_csv('cc.csv', error_bad_lines=False)\n",
            "Skipping line 5750: expected 31 fields, saw 51\n",
            "Skipping line 9582: expected 31 fields, saw 40\n",
            "Skipping line 15331: expected 31 fields, saw 53\n",
            "Skipping line 19163: expected 31 fields, saw 41\n",
            "Skipping line 21079: expected 31 fields, saw 33\n",
            "Skipping line 26830: expected 31 fields, saw 41\n",
            "Skipping line 32578: expected 31 fields, saw 34\n",
            "\n",
            "Skipping line 34493: expected 31 fields, saw 42\n",
            "Skipping line 40241: expected 31 fields, saw 36\n",
            "Skipping line 44073: expected 31 fields, saw 37\n",
            "Skipping line 51739: expected 31 fields, saw 41\n",
            "Skipping line 55572: expected 31 fields, saw 35\n",
            "Skipping line 59405: expected 31 fields, saw 35\n",
            "Skipping line 61320: expected 31 fields, saw 34\n",
            "Skipping line 63236: expected 31 fields, saw 39\n",
            "Skipping line 65152: expected 31 fields, saw 34\n",
            "\n",
            "Skipping line 68983: expected 31 fields, saw 36\n",
            "Skipping line 72816: expected 31 fields, saw 45\n",
            "Skipping line 74732: expected 31 fields, saw 33\n",
            "Skipping line 82397: expected 31 fields, saw 45\n",
            "Skipping line 88146: expected 31 fields, saw 36\n",
            "Skipping line 90061: expected 31 fields, saw 33\n",
            "\n",
            "<ipython-input-46-dca1f411c0cc>:13: DtypeWarning: Columns (18) have mixed types. Specify dtype option on import or set low_memory=False.\n",
            "  df_cc = pd.read_csv('cc.csv', error_bad_lines=False)\n"
          ]
        }
      ]
    },
    {
      "cell_type": "markdown",
      "source": [
        "## **Q1 Partition the data for cross validation**\n",
        "\n",
        "\n",
        "\n",
        "Load the data, and split the data set into $X$ (the feature dataframe, `df_X`) and $y$ (the target series `s_y`). Define our partitions.  \n",
        "\n",
        "We know this is a _super_ skewed data set, so we worry about our target class being underrepresented in a random k-fold selection. With this in mind, we use a [stratifed k-fold](https://scikit-learn.org/stable/modules/generated/sklearn.model_selection.StratifiedKFold.html), since it will preserve our class balance in our experiements. Use $k=3$, . Instantiate an instance of the `StratifiedKFold` class, and use the generator `split` to populate the test and train dictonaries:\n",
        "   - `d_train_df_X` : key is the fold number, value is the attribute training dataframe at that fold\n",
        "   - `d_test_df_X`  : key is the fold number, value is the attribute test dataframe at that fold\n",
        "   - `d_train_s_y`  : key is the fold number, value is the target training series at that fold\n",
        "   - `d_train_s_y`  : key is the fold number, value is the target test series at that fold"
      ],
      "metadata": {
        "id": "8rpT4BokbOPW"
      }
    },
    {
      "cell_type": "code",
      "execution_count": null,
      "metadata": {
        "id": "4Ru9_cKzV8Nw"
      },
      "outputs": [],
      "source": [
        "df_cc.dropna(inplace=True)\n",
        "df_X = df_cc.drop(columns=['Class'])\n",
        "s_y = df_cc['Class']\n",
        "skf = StratifiedKFold(n_splits=3,shuffle=True,random_state=23)\n",
        "\n",
        "\n",
        "d_train_df_X = dict()\n",
        "d_test_df_X = dict()\n",
        "d_train_s_y = dict()\n",
        "d_test_s_y = dict()\n",
        "\n",
        "# Write your code here\n",
        "for i, (train_index, test_index) in enumerate(skf.split(df_X, s_y)):\n",
        "    d_train_df_X[i] = df_X.iloc[train_index]\n",
        "    d_test_df_X[i] = df_X.iloc[test_index]\n",
        "    d_train_s_y[i] = s_y.iloc[train_index]\n",
        "    d_test_s_y[i] = s_y.iloc[test_index]"
      ]
    },
    {
      "cell_type": "code",
      "source": [
        "# Observe the test data and verify that the target training is as equally distributed as possible\n",
        "for key in d_test_s_y.keys():\n",
        "    print(d_test_s_y[key].value_counts())"
      ],
      "metadata": {
        "id": "OeGYsMElpNdk",
        "colab": {
          "base_uri": "https://localhost:8080/"
        },
        "outputId": "96e0a09e-34d7-40b6-8de1-d50cfddb257d"
      },
      "execution_count": null,
      "outputs": [
        {
          "output_type": "stream",
          "name": "stdout",
          "text": [
            "0.0    53115\n",
            "1.0       89\n",
            "Name: Class, dtype: int64\n",
            "0.0    53115\n",
            "1.0       88\n",
            "Name: Class, dtype: int64\n",
            "0.0    53115\n",
            "1.0       88\n",
            "Name: Class, dtype: int64\n"
          ]
        }
      ]
    },
    {
      "cell_type": "markdown",
      "source": [
        "## **Q2 Implementing AdaBoost Classifier**\n",
        "\n",
        "As we learned in class, AdaBoost is a boosting ensemble method that starts with a weak classifier and iteratively adds to it by focusing on the misclassified instances. In many AdaBoost implementations, \"Decision Stumps\" (decision trees with a single split) are used as the base classifier.\n",
        "\n",
        "While AdaBoost can work with various base classifiers, the default in `Scikit-learn`'s implementation is `DecisionTreeClassifier(max_depth=1)`, which is essentially a decision stump (a weak classifier).\n",
        "\n",
        "In this question, you will implement a function called `train_and_plot_adaboost()` that will do the following:\n",
        "\n",
        "* Model training and prediction: Instantiate the AdaBoost classifier with the specified parameters: `AdaBoostClassifier(n_estimators=25, random_state=23)`\n",
        "\n",
        "* `fit` to train the model.For predictions, you can use `predict` method for class predictions or `predict_proba` method to get the probability of being in class 0 or class 1. You will do cross-validation by loop over the 𝑘 folds using the dictionaries from the first problem. For each fold, calculate the following metrics:\n",
        "    * Accuracy\n",
        "    * True Positive Rate (TPR)\n",
        "    * Positive Predictive Value (PPV)\n",
        "    * False Positive Rate (FPR)\n",
        "    * ROC Curve Plotting:\n",
        "\n",
        "* Plot the ROC curve for each fold. You may use the roc_curve, RocCurveDisplay, from Scikit-learn. There is a great example in the documentation on plotting ROC curves in cross validation that is helpful.\n",
        "\n",
        "\n",
        "* After looping through all the folds, save the predictions from the 3rd fold into a variable named `y_hat_ab`. This is the variable your function will return.\n",
        "\n",
        "\n",
        "AdaBoost focuses on instances that were misclassified in previous iterations, which can lead to improved performance. Depending on the data size and the number of estimators, AdaBoost can take some time to run. Please be patient and allow it a few minutes if needed.\n"
      ],
      "metadata": {
        "id": "1if1dH4ofJKl"
      }
    },
    {
      "cell_type": "code",
      "source": [
        "def train_and_plot_adaboost():\n",
        "    '''\n",
        "    Trains a Random Forest classs.sifier on the provided training data and plots the ROC curve\n",
        "    for each fold in the cross-validation process\n",
        "    '''\n",
        "    import numpy as np\n",
        "\n",
        "    k = 3\n",
        "    acc_ab = np.zeros(k)\n",
        "    tpr_ab = np.zeros(k)\n",
        "    ppv_ab = np.zeros(k)\n",
        "    fpr_ab = np.zeros(k)\n",
        "\n",
        "    fold_count = 0\n",
        "    fig, ax = plt.subplots()\n",
        "    y_hat_rf = None\n",
        "\n",
        "    # Complete this function\n",
        "    for key in d_train_df_X.keys():\n",
        "        print(\"Working on {}\".format(key))\n",
        "\n",
        "\n",
        "        # Train AdaBoost classifier\n",
        "        ada = AdaBoostClassifier(n_estimators=25, random_state=23)\n",
        "        ada.fit(d_train_df_X[key], d_train_s_y[key])\n",
        "\n",
        "        # Predict the decision function scores\n",
        "        y_score = ada.decision_function(d_test_df_X[key])\n",
        "\n",
        "        # Compute the ROC values\n",
        "        fpr, tpr, _ = roc_curve(d_test_s_y[key], y_score)\n",
        "\n",
        "        # Compute the AUC (Area Under the Curve)\n",
        "        roc_auc = auc(fpr, tpr)\n",
        "\n",
        "        # Plot the ROC curve using RocCurveDisplay\n",
        "        roc_display = RocCurveDisplay(fpr=fpr, tpr=tpr, roc_auc=roc_auc, estimator_name='ROC Curve')\n",
        "        roc_display.plot(ax=ax)\n",
        "\n",
        "        # Accuracy\n",
        "        y_pred = ada.predict(d_test_df_X[key])\n",
        "        acc_ab[fold_count] = np.mean(y_pred == d_test_s_y[key])\n",
        "\n",
        "        # True positive rate\n",
        "        tpr_ab[fold_count] = tpr[1]\n",
        "\n",
        "        # False positive rate\n",
        "        fpr_ab[fold_count] = fpr[1]\n",
        "\n",
        "        # Positive Predictive Value\n",
        "        ppv_ab[fold_count] = np.sum((y_pred == 1) & (d_test_s_y[key] == 1)) / np.sum(y_pred == 1)\n",
        "\n",
        "        # Store predictions from the 3rd fold\n",
        "        if key == 2:\n",
        "            y_hat_ab = y_pred\n",
        "\n",
        "        fold_count += 1\n",
        "\n",
        "\n",
        "    print('The min, mean, and max TPR are: {:.2f}, {:.2f}, and {:.2f}'.format(tpr_ab.min(), tpr_ab.mean(), tpr_ab.max()))\n",
        "    print('The min, mean, and max PPV are: {:.2f}, {:.2f}, and {:.2f}'.format(ppv_ab.min(), ppv_ab.mean(), ppv_ab.max()))\n",
        "    print('The min, mean, and max ACC are: {:.2f}, {:.2f}, and {:.2f}'.format(acc_ab.min(), acc_ab.mean(), acc_ab.max()))\n",
        "\n",
        "\n",
        "    # plot the ROC Curve\n",
        "\n",
        "    plt.show()\n",
        "\n",
        "    return y_hat_rf\n",
        "\n",
        "\n",
        "    y_hat_ab = train_and_plot_adaboost()\n"
      ],
      "metadata": {
        "id": "QyLd57HUV8_2"
      },
      "execution_count": null,
      "outputs": []
    },
    {
      "cell_type": "markdown",
      "source": [
        "### **Q3 Implementing The Random Forest Classifier and Testing Its Performance**\n",
        "\n",
        "Random Forest is an ensemble method that constructs a multitude of decision trees during training. For predictions, the mode of the classes (classification) of individual trees is used. The trees are built completely with no pruning. Hence, every leaf in the tree will be pure, but individual trees might be overfitted to the training set.\n",
        "\n",
        "In this question, you will implement a function called `train_and_plot_randomforest()` where you will implement the following:\n",
        "\n",
        "* While building the decision trees, at every internal node, randomly select 𝑝 attributes. Identify the best split that minimizes impurity among these 𝑝 attributes. The parameter 𝑝 corresponds to the `max_features` parameter in the `Scikit-learn`'s Random Forest Classifier.\n",
        "\n",
        "**Model Training**\n",
        "* Instantiate the Random Forest classifier with the specified parameters:\n",
        "`RandomForestClassifier(criterion=\"entropy\", max_features=\"sqrt\", random_state=23)`. `fit` to train the model. For predictions, you can use `predict` method for class predictions. `predict_proba` method to get the probability of being in class 0 or class 1. These probabilities are used when creating ROC curves.\n",
        "\n",
        "**Cross Validation**\n",
        "\n",
        "* Loop over the 𝑘 folds using the dictionaries from the first problem.\n",
        "For each fold, calculate the following metrics:\n",
        "* Accuracy\n",
        "* True Positive Rate (TPR)\n",
        "* Positive Predictive Value (PPV)\n",
        "* False Positive Rate (FPR)\n",
        "\n",
        "**ROC Curve Plotting**\n",
        "\n",
        "* Using the probabilities obtained from `predict_proba`, compute the ROC values.\n",
        "* Plot the ROC curve for each fold. You can utilize the `RocCurveDisplay` from `Scikit-learn`.\n",
        "* Refer to the Scikit-learn documentation for an example on plotting ROC curves in cross-validation.\n",
        "\n",
        "**Saving Predictions**\n",
        "\n",
        "* After looping through all the folds, save the predictions from the 3rd fold into a variable named `y_hat_rf`. This is what your function will return.\n",
        "\n"
      ],
      "metadata": {
        "id": "m4n_GGDQZzvS"
      }
    },
    {
      "cell_type": "code",
      "source": [
        "def train_and_plot_randomforest():\n",
        "    '''\n",
        "    Trains a Random Forest classifier on the provided training data and plots the ROC curve\n",
        "    for each fold in the cross-validation process.\n",
        "    '''\n",
        "\n",
        "    k = 3\n",
        "    acc_rf = np.zeros(k)\n",
        "    tpr_rf = np.zeros(k)\n",
        "    ppv_rf = np.zeros(k)\n",
        "    fpr_rf = np.zeros(k)\n",
        "\n",
        "    fold_count = 0\n",
        "    fig, ax = plt.subplots()\n",
        "    y_hat_rf = None\n",
        "\n",
        "    for key in d_train_df_X.keys():\n",
        "        print(\"Working on {}\".format(key))\n",
        "\n",
        "        # Train RandomForest classifier\n",
        "        rf = RandomForestClassifier(criterion=\"entropy\", max_features=\"sqrt\", random_state=23)\n",
        "        rf.fit(d_train_df_X[key], d_train_s_y[key])\n",
        "\n",
        "        # Get the probability scores for the positive class\n",
        "        y_score = rf.predict_proba(d_test_df_X[key])[:, 1]\n",
        "\n",
        "        # Compute the ROC values\n",
        "        fpr, tpr, _ = roc_curve(d_test_s_y[key], y_score)\n",
        "\n",
        "        # Compute the AUC (Area Under the Curve)\n",
        "        roc_auc = auc(fpr, tpr)\n",
        "\n",
        "        # Plot the ROC curve using RocCurveDisplay\n",
        "        roc_display = RocCurveDisplay(fpr=fpr, tpr=tpr, roc_auc=roc_auc, estimator_name=f'ROC Curve - Fold {fold_count}')\n",
        "        roc_display.plot(ax=ax)\n",
        "\n",
        "        # Accuracy\n",
        "        y_pred = rf.predict(d_test_df_X[key])\n",
        "        acc_rf[fold_count] = np.mean(y_pred == d_test_s_y[key])\n",
        "\n",
        "        # True positive rate\n",
        "        tpr_rf[fold_count] = tpr[1]\n",
        "\n",
        "        # False positive rate\n",
        "        fpr_rf[fold_count] = fpr[1]\n",
        "\n",
        "        # Positive Predictive Value\n",
        "        ppv_rf[fold_count] = np.sum((y_pred == 1) & (d_test_s_y[key] == 1)) / (np.sum(y_pred == 1) + np.finfo(float).eps)\n",
        "\n",
        "        # Store predictions from the 3rd fold\n",
        "        if key == 2:\n",
        "            y_hat_rf = y_pred\n",
        "\n",
        "        fold_count += 1\n",
        "\n",
        "    print('The min, mean, and max TPR are: {:.2f}, {:.2f}, and {:.2f}'.format(tpr_rf.min(), tpr_rf.mean(), tpr_rf.max()))\n",
        "    print('The min, mean, and max PPV are: {:.2f}, {:.2f}, and {:.2f}'.format(ppv_rf.min(), ppv_rf.mean(), ppv_rf.max()))\n",
        "    print('The min, mean, and max ACC are: {:.2f}, {:.2f}, and {:.2f}'.format(acc_rf.min(), acc_rf.mean(), acc_rf.max()))\n",
        "\n",
        "    # plot the ROC curve\n",
        "    plt.show()\n",
        "\n",
        "    return y_hat_rf\n",
        "\n",
        "y_hat_rf = train_and_plot_randomforest()"
      ],
      "metadata": {
        "id": "ooz8240zV9G9",
        "colab": {
          "base_uri": "https://localhost:8080/",
          "height": 553
        },
        "outputId": "4b10a5f7-383f-4911-b222-130c08c46761"
      },
      "execution_count": null,
      "outputs": [
        {
          "output_type": "stream",
          "name": "stdout",
          "text": [
            "Working on 0\n",
            "Working on 1\n",
            "Working on 2\n",
            "The min, mean, and max TPR are: 0.02, 0.04, and 0.06\n",
            "The min, mean, and max PPV are: 0.93, 0.95, and 0.97\n",
            "The min, mean, and max ACC are: 1.00, 1.00, and 1.00\n"
          ]
        },
        {
          "output_type": "display_data",
          "data": {
            "text/plain": [
              "<Figure size 640x480 with 1 Axes>"
            ],
            "image/png": "[encoded data removed]"
          },
          "metadata": {}
        }
      ]
    },
    {
      "cell_type": "markdown",
      "source": [
        "### **Q4 Calculate the Cost of Fraud**\n",
        "\n",
        "In the above problems, we saved the predictions of the 3rd fold into the variables `y_hat_ab` and `y_hat_rf` for the AdaBoost and RandomForest models respectively.\n",
        "\n",
        "Now, the Bank wants you to tell them how much money they are going to save if they deploy either of these fraud algorithms to the real-time payment processing system.  Assume that there is not a currently deployed fraud detection algorithm.  \n",
        "\n",
        "For every fraudulent transaction that is not predicted as fraudulent the bank looses twice that much money.  So, a fradulent charge for €10 is undectected, it costs the bank €20.  Also, if a charge is predicted as fradulent, but wasn't, it costs the bank a flat fee of €3 in customer service support to communicate with the customer, and mark the possible fraud as a normal transaction.\n",
        "\n",
        "Using the 3rd fold test sample, calculate how much money the Bank will save with each algorithm, and make a recommendation of which algorithm to deploy to production. All amounts are given in Euros."
      ],
      "metadata": {
        "id": "-rkrZXJojsxg"
      }
    },
    {
      "cell_type": "code",
      "source": [
        "# First, calculate the current cost to the bank with no fraud decection\n",
        "cost_ab_undetected_fraud = fold_3_amount[(y_hat_ab != 1) & (d_test_s_y[2] == 1)].sum() * 2.0\n",
        "cost_ab_false_fraud = fold_3_amount[(y_hat_ab == 1) & (d_test_s_y[2] != 1)].count() * 3.0\n",
        "print(\"The bank will save €{:.2f} by deploying the AdaBoost algorithm\".format(current_cost - cost_ab_undetected_fraud - cost_ab_false_fraud))\n"
      ],
      "metadata": {
        "colab": {
          "base_uri": "https://localhost:8080/"
        },
        "id": "A6bQB-lijcy-",
        "outputId": "96c77736-3741-4a60-a712-c2b2f0635d44"
      },
      "execution_count": null,
      "outputs": [
        {
          "output_type": "stream",
          "name": "stdout",
          "text": [
            "The current cost to the bank is €19120.26\n"
          ]
        }
      ]
    },
    {
      "cell_type": "code",
      "source": [
        "# your code here\n",
        "cost_rf_undetected_fraud = fold_3_amount[(y_hat_rf != 1) & (d_test_s_y[2] == 1)].sum() * 2.0\n",
        "cost_rf_false_fraud = fold_3_amount[(y_hat_rf == 1) & (d_test_s_y[2] != 1)].count() * 3.0\n",
        "print(\"The bank will save €{:.2f} by deploying the Random Forest algorithm\".format(current_cost - cost_rf_undetected_fraud - cost_rf_false_fraud))"
      ],
      "metadata": {
        "colab": {
          "base_uri": "https://localhost:8080/"
        },
        "id": "KpkmUIFWjfTn",
        "outputId": "4e8b7ade-b3b5-4a97-af5e-4d8c15db75b0"
      },
      "execution_count": null,
      "outputs": [
        {
          "output_type": "stream",
          "name": "stdout",
          "text": [
            "The bank will save €13159.86 by deploying the Random Forest algorithm\n"
          ]
        }
      ]
    },
    {
      "cell_type": "code",
      "source": [
        "# your code here\n",
        "cost_rf_undetected_fraud = (d_test_s_y[2] != y_hat_rf).sum() * 2 * d_test_df_X[2].loc[d_test_s_y[2] == 1, 'Amount'].sum()\n",
        "cost_rf_false_fraud = (y_hat_rf != d_test_s_y[2]).sum() * 3\n",
        "\n",
        "print(\"The bank will save €{:.2f} by deploying the Random Forest algorithm\".format(current_cost - cost_rf_undetected_fraud - cost_rf_false_fraud))\n"
      ],
      "metadata": {
        "colab": {
          "base_uri": "https://localhost:8080/"
        },
        "id": "eJ7KL2f3ji-f",
        "outputId": "c0331039-160c-4989-f0e7-0f61561a03db"
      },
      "execution_count": null,
      "outputs": [
        {
          "output_type": "stream",
          "name": "stdout",
          "text": [
            "The bank will save €-325098.42 by deploying the Random Forest algorithm\n"
          ]
        }
      ]
    }
  ]
}